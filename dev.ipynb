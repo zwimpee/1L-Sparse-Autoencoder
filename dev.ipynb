{
  "cells": [
    {
      "cell_type": "markdown",
      "metadata": {
        "id": "view-in-github",
        "colab_type": "text"
      },
      "source": [
        "<a href=\"https://colab.research.google.com/github/zwimpee/1L-Sparse-Autoencoder/blob/main/dev.ipynb\" target=\"_parent\"><img src=\"https://colab.research.google.com/assets/colab-badge.svg\" alt=\"Open In Colab\"/></a>"
      ]
    },
    {
      "cell_type": "markdown",
      "source": [
        "# *Sparse Autoencoders, Feature Extraction, Dictionary Learning, Interpretability, and Supersymmetry* 🚀 😄"
      ],
      "metadata": {
        "id": "3rhxTT4SxyPB"
      }
    },
    {
      "cell_type": "markdown",
      "source": [
        "## Introduction\n",
        "This notebook is to track progress on this personal project I am interested in, related to a peculiar similarity I think I may have noticed between 2 seemingly disparate worlds: $\\textbf{Deep Learning}$ and $\\textbf{Supersymmetry}$.\n",
        "\n",
        "In particular, I have noticed fairly recently (within the last ~1 month) that the work being done in interpretibility over the last 3 - 4 years, like what is being done at [Anthropic](https://www.anthropic.com/research), particularly the work being done by [Chris Olah](https://scholar.google.com/citations?user=6dskOSUAAAAJ&hl=en) on [Transformer Circuits](https://transformer-circuits.pub/) bears a striking similarity to the work [I have been a part of](https://arxiv.org/abs/1906.02971) as part of my experience with the research group out of Brown led by [Dr. Sylvester James Gates (Jim)](https://twitter.com/dr_jimgates).\n",
        "\n",
        "More specifically, I have caught on to a surprising thread (at least it is surprsising to me) that could suggest that the mathematics of supersymmetry and more generally quantum field theory could be applied directly to transformer-based neural networks (or perhaps neural networks in general) in order to both gain deeper insight into the mechanics of how a trained model is able to exhibit all of the emergent properties that we are observing as these models get larger, as well as to help more explicitly guide these models towards being truly aligned with human interests and priorities through some of the ablation/masking techniques studied in some of the works linked above.\n",
        "\n",
        "I will expand more deeply on this connection later in this document, but for now I think it is more imperative to get a better sense of what the current formalism looks like for this emerging field of *mechanistic interpretibility*, so let's get started..."
      ],
      "metadata": {
        "id": "SjBHiDo0TUMo"
      }
    },
    {
      "cell_type": "markdown",
      "source": [
        "# 1. `Setup`"
      ],
      "metadata": {
        "id": "x0WX6lN2guwg"
      }
    },
    {
      "cell_type": "markdown",
      "source": [
        "## 1.1 - `Setup` - Install Dependencies"
      ],
      "metadata": {
        "id": "Ao7MchHThtLH"
      }
    },
    {
      "cell_type": "code",
      "execution_count": 81,
      "metadata": {
        "id": "qzU1eYv0SvAX",
        "colab": {
          "base_uri": "https://localhost:8080/"
        },
        "outputId": "a49e61db-b3a6-4507-9d70-a850d3b8265e"
      },
      "outputs": [
        {
          "output_type": "stream",
          "name": "stdout",
          "text": [
            "Python 3.10.12\n"
          ]
        }
      ],
      "source": [
        "!python3 -V"
      ]
    },
    {
      "cell_type": "code",
      "source": [
        "!pip install transformer_lens\n",
        "!pip install gradio\n",
        "# !pip install tiktoken\n",
        "# !pip install transformers\n",
        "!pip install datasets"
      ],
      "metadata": {
        "id": "lbFhN8dWTK_g",
        "colab": {
          "base_uri": "https://localhost:8080/"
        },
        "outputId": "ea50c933-396b-4d89-da7a-bbcb1e86fae0"
      },
      "execution_count": 82,
      "outputs": [
        {
          "output_type": "stream",
          "name": "stdout",
          "text": [
            "Requirement already satisfied: transformer_lens in /usr/local/lib/python3.10/dist-packages (1.17.0)\n",
            "Requirement already satisfied: accelerate>=0.23.0 in /usr/local/lib/python3.10/dist-packages (from transformer_lens) (0.29.3)\n",
            "Requirement already satisfied: beartype<0.15.0,>=0.14.1 in /usr/local/lib/python3.10/dist-packages (from transformer_lens) (0.14.1)\n",
            "Requirement already satisfied: better-abc<0.0.4,>=0.0.3 in /usr/local/lib/python3.10/dist-packages (from transformer_lens) (0.0.3)\n",
            "Requirement already satisfied: datasets>=2.7.1 in /usr/local/lib/python3.10/dist-packages (from transformer_lens) (2.19.0)\n",
            "Requirement already satisfied: einops>=0.6.0 in /usr/local/lib/python3.10/dist-packages (from transformer_lens) (0.8.0)\n",
            "Requirement already satisfied: fancy-einsum>=0.0.3 in /usr/local/lib/python3.10/dist-packages (from transformer_lens) (0.0.3)\n",
            "Requirement already satisfied: jaxtyping>=0.2.11 in /usr/local/lib/python3.10/dist-packages (from transformer_lens) (0.2.28)\n",
            "Requirement already satisfied: numpy>=1.24 in /usr/local/lib/python3.10/dist-packages (from transformer_lens) (1.25.2)\n",
            "Requirement already satisfied: pandas>=1.1.5 in /usr/local/lib/python3.10/dist-packages (from transformer_lens) (2.0.3)\n",
            "Requirement already satisfied: rich>=12.6.0 in /usr/local/lib/python3.10/dist-packages (from transformer_lens) (13.7.1)\n",
            "Requirement already satisfied: sentencepiece in /usr/local/lib/python3.10/dist-packages (from transformer_lens) (0.1.99)\n",
            "Requirement already satisfied: torch>=1.10 in /usr/local/lib/python3.10/dist-packages (from transformer_lens) (2.2.1+cu121)\n",
            "Requirement already satisfied: tqdm>=4.64.1 in /usr/local/lib/python3.10/dist-packages (from transformer_lens) (4.66.2)\n",
            "Requirement already satisfied: transformers>=4.37.2 in /usr/local/lib/python3.10/dist-packages (from transformer_lens) (4.40.1)\n",
            "Requirement already satisfied: typing-extensions in /usr/local/lib/python3.10/dist-packages (from transformer_lens) (4.11.0)\n",
            "Requirement already satisfied: wandb>=0.13.5 in /usr/local/lib/python3.10/dist-packages (from transformer_lens) (0.16.6)\n",
            "Requirement already satisfied: packaging>=20.0 in /usr/local/lib/python3.10/dist-packages (from accelerate>=0.23.0->transformer_lens) (24.0)\n",
            "Requirement already satisfied: psutil in /usr/local/lib/python3.10/dist-packages (from accelerate>=0.23.0->transformer_lens) (5.9.5)\n",
            "Requirement already satisfied: pyyaml in /usr/local/lib/python3.10/dist-packages (from accelerate>=0.23.0->transformer_lens) (6.0.1)\n",
            "Requirement already satisfied: huggingface-hub in /usr/local/lib/python3.10/dist-packages (from accelerate>=0.23.0->transformer_lens) (0.22.2)\n",
            "Requirement already satisfied: safetensors>=0.3.1 in /usr/local/lib/python3.10/dist-packages (from accelerate>=0.23.0->transformer_lens) (0.4.3)\n",
            "Requirement already satisfied: filelock in /usr/local/lib/python3.10/dist-packages (from datasets>=2.7.1->transformer_lens) (3.13.4)\n",
            "Requirement already satisfied: pyarrow>=12.0.0 in /usr/local/lib/python3.10/dist-packages (from datasets>=2.7.1->transformer_lens) (14.0.2)\n",
            "Requirement already satisfied: pyarrow-hotfix in /usr/local/lib/python3.10/dist-packages (from datasets>=2.7.1->transformer_lens) (0.6)\n",
            "Requirement already satisfied: dill<0.3.9,>=0.3.0 in /usr/local/lib/python3.10/dist-packages (from datasets>=2.7.1->transformer_lens) (0.3.8)\n",
            "Requirement already satisfied: requests>=2.19.0 in /usr/local/lib/python3.10/dist-packages (from datasets>=2.7.1->transformer_lens) (2.31.0)\n",
            "Requirement already satisfied: xxhash in /usr/local/lib/python3.10/dist-packages (from datasets>=2.7.1->transformer_lens) (3.4.1)\n",
            "Requirement already satisfied: multiprocess in /usr/local/lib/python3.10/dist-packages (from datasets>=2.7.1->transformer_lens) (0.70.16)\n",
            "Requirement already satisfied: fsspec[http]<=2024.3.1,>=2023.1.0 in /usr/local/lib/python3.10/dist-packages (from datasets>=2.7.1->transformer_lens) (2023.6.0)\n",
            "Requirement already satisfied: aiohttp in /usr/local/lib/python3.10/dist-packages (from datasets>=2.7.1->transformer_lens) (3.9.5)\n",
            "Requirement already satisfied: typeguard==2.13.3 in /usr/local/lib/python3.10/dist-packages (from jaxtyping>=0.2.11->transformer_lens) (2.13.3)\n",
            "Requirement already satisfied: python-dateutil>=2.8.2 in /usr/local/lib/python3.10/dist-packages (from pandas>=1.1.5->transformer_lens) (2.8.2)\n",
            "Requirement already satisfied: pytz>=2020.1 in /usr/local/lib/python3.10/dist-packages (from pandas>=1.1.5->transformer_lens) (2023.4)\n",
            "Requirement already satisfied: tzdata>=2022.1 in /usr/local/lib/python3.10/dist-packages (from pandas>=1.1.5->transformer_lens) (2024.1)\n",
            "Requirement already satisfied: markdown-it-py>=2.2.0 in /usr/local/lib/python3.10/dist-packages (from rich>=12.6.0->transformer_lens) (3.0.0)\n",
            "Requirement already satisfied: pygments<3.0.0,>=2.13.0 in /usr/local/lib/python3.10/dist-packages (from rich>=12.6.0->transformer_lens) (2.16.1)\n",
            "Requirement already satisfied: sympy in /usr/local/lib/python3.10/dist-packages (from torch>=1.10->transformer_lens) (1.12)\n",
            "Requirement already satisfied: networkx in /usr/local/lib/python3.10/dist-packages (from torch>=1.10->transformer_lens) (3.3)\n",
            "Requirement already satisfied: jinja2 in /usr/local/lib/python3.10/dist-packages (from torch>=1.10->transformer_lens) (3.1.3)\n",
            "Requirement already satisfied: nvidia-cuda-nvrtc-cu12==12.1.105 in /usr/local/lib/python3.10/dist-packages (from torch>=1.10->transformer_lens) (12.1.105)\n",
            "Requirement already satisfied: nvidia-cuda-runtime-cu12==12.1.105 in /usr/local/lib/python3.10/dist-packages (from torch>=1.10->transformer_lens) (12.1.105)\n",
            "Requirement already satisfied: nvidia-cuda-cupti-cu12==12.1.105 in /usr/local/lib/python3.10/dist-packages (from torch>=1.10->transformer_lens) (12.1.105)\n",
            "Requirement already satisfied: nvidia-cudnn-cu12==8.9.2.26 in /usr/local/lib/python3.10/dist-packages (from torch>=1.10->transformer_lens) (8.9.2.26)\n",
            "Requirement already satisfied: nvidia-cublas-cu12==12.1.3.1 in /usr/local/lib/python3.10/dist-packages (from torch>=1.10->transformer_lens) (12.1.3.1)\n",
            "Requirement already satisfied: nvidia-cufft-cu12==11.0.2.54 in /usr/local/lib/python3.10/dist-packages (from torch>=1.10->transformer_lens) (11.0.2.54)\n",
            "Requirement already satisfied: nvidia-curand-cu12==10.3.2.106 in /usr/local/lib/python3.10/dist-packages (from torch>=1.10->transformer_lens) (10.3.2.106)\n",
            "Requirement already satisfied: nvidia-cusolver-cu12==11.4.5.107 in /usr/local/lib/python3.10/dist-packages (from torch>=1.10->transformer_lens) (11.4.5.107)\n",
            "Requirement already satisfied: nvidia-cusparse-cu12==12.1.0.106 in /usr/local/lib/python3.10/dist-packages (from torch>=1.10->transformer_lens) (12.1.0.106)\n",
            "Requirement already satisfied: nvidia-nccl-cu12==2.19.3 in /usr/local/lib/python3.10/dist-packages (from torch>=1.10->transformer_lens) (2.19.3)\n",
            "Requirement already satisfied: nvidia-nvtx-cu12==12.1.105 in /usr/local/lib/python3.10/dist-packages (from torch>=1.10->transformer_lens) (12.1.105)\n",
            "Requirement already satisfied: triton==2.2.0 in /usr/local/lib/python3.10/dist-packages (from torch>=1.10->transformer_lens) (2.2.0)\n",
            "Requirement already satisfied: nvidia-nvjitlink-cu12 in /usr/local/lib/python3.10/dist-packages (from nvidia-cusolver-cu12==11.4.5.107->torch>=1.10->transformer_lens) (12.4.127)\n",
            "Requirement already satisfied: regex!=2019.12.17 in /usr/local/lib/python3.10/dist-packages (from transformers>=4.37.2->transformer_lens) (2023.12.25)\n",
            "Requirement already satisfied: tokenizers<0.20,>=0.19 in /usr/local/lib/python3.10/dist-packages (from transformers>=4.37.2->transformer_lens) (0.19.1)\n",
            "Requirement already satisfied: Click!=8.0.0,>=7.1 in /usr/local/lib/python3.10/dist-packages (from wandb>=0.13.5->transformer_lens) (8.1.7)\n",
            "Requirement already satisfied: GitPython!=3.1.29,>=1.0.0 in /usr/local/lib/python3.10/dist-packages (from wandb>=0.13.5->transformer_lens) (3.1.43)\n",
            "Requirement already satisfied: sentry-sdk>=1.0.0 in /usr/local/lib/python3.10/dist-packages (from wandb>=0.13.5->transformer_lens) (2.0.1)\n",
            "Requirement already satisfied: docker-pycreds>=0.4.0 in /usr/local/lib/python3.10/dist-packages (from wandb>=0.13.5->transformer_lens) (0.4.0)\n",
            "Requirement already satisfied: setproctitle in /usr/local/lib/python3.10/dist-packages (from wandb>=0.13.5->transformer_lens) (1.3.3)\n",
            "Requirement already satisfied: setuptools in /usr/local/lib/python3.10/dist-packages (from wandb>=0.13.5->transformer_lens) (67.7.2)\n",
            "Requirement already satisfied: appdirs>=1.4.3 in /usr/local/lib/python3.10/dist-packages (from wandb>=0.13.5->transformer_lens) (1.4.4)\n",
            "Requirement already satisfied: protobuf!=4.21.0,<5,>=3.19.0 in /usr/local/lib/python3.10/dist-packages (from wandb>=0.13.5->transformer_lens) (3.20.3)\n",
            "Requirement already satisfied: six>=1.4.0 in /usr/local/lib/python3.10/dist-packages (from docker-pycreds>=0.4.0->wandb>=0.13.5->transformer_lens) (1.16.0)\n",
            "Requirement already satisfied: aiosignal>=1.1.2 in /usr/local/lib/python3.10/dist-packages (from aiohttp->datasets>=2.7.1->transformer_lens) (1.3.1)\n",
            "Requirement already satisfied: attrs>=17.3.0 in /usr/local/lib/python3.10/dist-packages (from aiohttp->datasets>=2.7.1->transformer_lens) (23.2.0)\n",
            "Requirement already satisfied: frozenlist>=1.1.1 in /usr/local/lib/python3.10/dist-packages (from aiohttp->datasets>=2.7.1->transformer_lens) (1.4.1)\n",
            "Requirement already satisfied: multidict<7.0,>=4.5 in /usr/local/lib/python3.10/dist-packages (from aiohttp->datasets>=2.7.1->transformer_lens) (6.0.5)\n",
            "Requirement already satisfied: yarl<2.0,>=1.0 in /usr/local/lib/python3.10/dist-packages (from aiohttp->datasets>=2.7.1->transformer_lens) (1.9.4)\n",
            "Requirement already satisfied: async-timeout<5.0,>=4.0 in /usr/local/lib/python3.10/dist-packages (from aiohttp->datasets>=2.7.1->transformer_lens) (4.0.3)\n",
            "Requirement already satisfied: gitdb<5,>=4.0.1 in /usr/local/lib/python3.10/dist-packages (from GitPython!=3.1.29,>=1.0.0->wandb>=0.13.5->transformer_lens) (4.0.11)\n",
            "Requirement already satisfied: mdurl~=0.1 in /usr/local/lib/python3.10/dist-packages (from markdown-it-py>=2.2.0->rich>=12.6.0->transformer_lens) (0.1.2)\n",
            "Requirement already satisfied: charset-normalizer<4,>=2 in /usr/local/lib/python3.10/dist-packages (from requests>=2.19.0->datasets>=2.7.1->transformer_lens) (3.3.2)\n",
            "Requirement already satisfied: idna<4,>=2.5 in /usr/local/lib/python3.10/dist-packages (from requests>=2.19.0->datasets>=2.7.1->transformer_lens) (3.7)\n",
            "Requirement already satisfied: urllib3<3,>=1.21.1 in /usr/local/lib/python3.10/dist-packages (from requests>=2.19.0->datasets>=2.7.1->transformer_lens) (2.0.7)\n",
            "Requirement already satisfied: certifi>=2017.4.17 in /usr/local/lib/python3.10/dist-packages (from requests>=2.19.0->datasets>=2.7.1->transformer_lens) (2024.2.2)\n",
            "Requirement already satisfied: MarkupSafe>=2.0 in /usr/local/lib/python3.10/dist-packages (from jinja2->torch>=1.10->transformer_lens) (2.1.5)\n",
            "Requirement already satisfied: mpmath>=0.19 in /usr/local/lib/python3.10/dist-packages (from sympy->torch>=1.10->transformer_lens) (1.3.0)\n",
            "Requirement already satisfied: smmap<6,>=3.0.1 in /usr/local/lib/python3.10/dist-packages (from gitdb<5,>=4.0.1->GitPython!=3.1.29,>=1.0.0->wandb>=0.13.5->transformer_lens) (5.0.1)\n",
            "Requirement already satisfied: gradio in /usr/local/lib/python3.10/dist-packages (4.28.3)\n",
            "Requirement already satisfied: aiofiles<24.0,>=22.0 in /usr/local/lib/python3.10/dist-packages (from gradio) (23.2.1)\n",
            "Requirement already satisfied: altair<6.0,>=4.2.0 in /usr/local/lib/python3.10/dist-packages (from gradio) (4.2.2)\n",
            "Requirement already satisfied: fastapi in /usr/local/lib/python3.10/dist-packages (from gradio) (0.110.3)\n",
            "Requirement already satisfied: ffmpy in /usr/local/lib/python3.10/dist-packages (from gradio) (0.3.2)\n",
            "Requirement already satisfied: gradio-client==0.16.0 in /usr/local/lib/python3.10/dist-packages (from gradio) (0.16.0)\n",
            "Requirement already satisfied: httpx>=0.24.1 in /usr/local/lib/python3.10/dist-packages (from gradio) (0.27.0)\n",
            "Requirement already satisfied: huggingface-hub>=0.19.3 in /usr/local/lib/python3.10/dist-packages (from gradio) (0.22.2)\n",
            "Requirement already satisfied: importlib-resources<7.0,>=1.3 in /usr/local/lib/python3.10/dist-packages (from gradio) (6.4.0)\n",
            "Requirement already satisfied: jinja2<4.0 in /usr/local/lib/python3.10/dist-packages (from gradio) (3.1.3)\n",
            "Requirement already satisfied: markupsafe~=2.0 in /usr/local/lib/python3.10/dist-packages (from gradio) (2.1.5)\n",
            "Requirement already satisfied: matplotlib~=3.0 in /usr/local/lib/python3.10/dist-packages (from gradio) (3.7.1)\n",
            "Requirement already satisfied: numpy~=1.0 in /usr/local/lib/python3.10/dist-packages (from gradio) (1.25.2)\n",
            "Requirement already satisfied: orjson~=3.0 in /usr/local/lib/python3.10/dist-packages (from gradio) (3.10.2)\n",
            "Requirement already satisfied: packaging in /usr/local/lib/python3.10/dist-packages (from gradio) (24.0)\n",
            "Requirement already satisfied: pandas<3.0,>=1.0 in /usr/local/lib/python3.10/dist-packages (from gradio) (2.0.3)\n",
            "Requirement already satisfied: pillow<11.0,>=8.0 in /usr/local/lib/python3.10/dist-packages (from gradio) (9.4.0)\n",
            "Requirement already satisfied: pydantic>=2.0 in /usr/local/lib/python3.10/dist-packages (from gradio) (2.7.1)\n",
            "Requirement already satisfied: pydub in /usr/local/lib/python3.10/dist-packages (from gradio) (0.25.1)\n",
            "Requirement already satisfied: python-multipart>=0.0.9 in /usr/local/lib/python3.10/dist-packages (from gradio) (0.0.9)\n",
            "Requirement already satisfied: pyyaml<7.0,>=5.0 in /usr/local/lib/python3.10/dist-packages (from gradio) (6.0.1)\n",
            "Requirement already satisfied: ruff>=0.2.2 in /usr/local/lib/python3.10/dist-packages (from gradio) (0.4.2)\n",
            "Requirement already satisfied: semantic-version~=2.0 in /usr/local/lib/python3.10/dist-packages (from gradio) (2.10.0)\n",
            "Requirement already satisfied: tomlkit==0.12.0 in /usr/local/lib/python3.10/dist-packages (from gradio) (0.12.0)\n",
            "Requirement already satisfied: typer<1.0,>=0.12 in /usr/local/lib/python3.10/dist-packages (from gradio) (0.12.3)\n",
            "Requirement already satisfied: typing-extensions~=4.0 in /usr/local/lib/python3.10/dist-packages (from gradio) (4.11.0)\n",
            "Requirement already satisfied: urllib3~=2.0 in /usr/local/lib/python3.10/dist-packages (from gradio) (2.0.7)\n",
            "Requirement already satisfied: uvicorn>=0.14.0 in /usr/local/lib/python3.10/dist-packages (from gradio) (0.29.0)\n",
            "Requirement already satisfied: fsspec in /usr/local/lib/python3.10/dist-packages (from gradio-client==0.16.0->gradio) (2023.6.0)\n",
            "Requirement already satisfied: websockets<12.0,>=10.0 in /usr/local/lib/python3.10/dist-packages (from gradio-client==0.16.0->gradio) (11.0.3)\n",
            "Requirement already satisfied: entrypoints in /usr/local/lib/python3.10/dist-packages (from altair<6.0,>=4.2.0->gradio) (0.4)\n",
            "Requirement already satisfied: jsonschema>=3.0 in /usr/local/lib/python3.10/dist-packages (from altair<6.0,>=4.2.0->gradio) (4.19.2)\n",
            "Requirement already satisfied: toolz in /usr/local/lib/python3.10/dist-packages (from altair<6.0,>=4.2.0->gradio) (0.12.1)\n",
            "Requirement already satisfied: anyio in /usr/local/lib/python3.10/dist-packages (from httpx>=0.24.1->gradio) (3.7.1)\n",
            "Requirement already satisfied: certifi in /usr/local/lib/python3.10/dist-packages (from httpx>=0.24.1->gradio) (2024.2.2)\n",
            "Requirement already satisfied: httpcore==1.* in /usr/local/lib/python3.10/dist-packages (from httpx>=0.24.1->gradio) (1.0.5)\n",
            "Requirement already satisfied: idna in /usr/local/lib/python3.10/dist-packages (from httpx>=0.24.1->gradio) (3.7)\n",
            "Requirement already satisfied: sniffio in /usr/local/lib/python3.10/dist-packages (from httpx>=0.24.1->gradio) (1.3.1)\n",
            "Requirement already satisfied: h11<0.15,>=0.13 in /usr/local/lib/python3.10/dist-packages (from httpcore==1.*->httpx>=0.24.1->gradio) (0.14.0)\n",
            "Requirement already satisfied: filelock in /usr/local/lib/python3.10/dist-packages (from huggingface-hub>=0.19.3->gradio) (3.13.4)\n",
            "Requirement already satisfied: requests in /usr/local/lib/python3.10/dist-packages (from huggingface-hub>=0.19.3->gradio) (2.31.0)\n",
            "Requirement already satisfied: tqdm>=4.42.1 in /usr/local/lib/python3.10/dist-packages (from huggingface-hub>=0.19.3->gradio) (4.66.2)\n",
            "Requirement already satisfied: contourpy>=1.0.1 in /usr/local/lib/python3.10/dist-packages (from matplotlib~=3.0->gradio) (1.2.1)\n",
            "Requirement already satisfied: cycler>=0.10 in /usr/local/lib/python3.10/dist-packages (from matplotlib~=3.0->gradio) (0.12.1)\n",
            "Requirement already satisfied: fonttools>=4.22.0 in /usr/local/lib/python3.10/dist-packages (from matplotlib~=3.0->gradio) (4.51.0)\n",
            "Requirement already satisfied: kiwisolver>=1.0.1 in /usr/local/lib/python3.10/dist-packages (from matplotlib~=3.0->gradio) (1.4.5)\n",
            "Requirement already satisfied: pyparsing>=2.3.1 in /usr/local/lib/python3.10/dist-packages (from matplotlib~=3.0->gradio) (3.1.2)\n",
            "Requirement already satisfied: python-dateutil>=2.7 in /usr/local/lib/python3.10/dist-packages (from matplotlib~=3.0->gradio) (2.8.2)\n",
            "Requirement already satisfied: pytz>=2020.1 in /usr/local/lib/python3.10/dist-packages (from pandas<3.0,>=1.0->gradio) (2023.4)\n",
            "Requirement already satisfied: tzdata>=2022.1 in /usr/local/lib/python3.10/dist-packages (from pandas<3.0,>=1.0->gradio) (2024.1)\n",
            "Requirement already satisfied: annotated-types>=0.4.0 in /usr/local/lib/python3.10/dist-packages (from pydantic>=2.0->gradio) (0.6.0)\n",
            "Requirement already satisfied: pydantic-core==2.18.2 in /usr/local/lib/python3.10/dist-packages (from pydantic>=2.0->gradio) (2.18.2)\n",
            "Requirement already satisfied: click>=8.0.0 in /usr/local/lib/python3.10/dist-packages (from typer<1.0,>=0.12->gradio) (8.1.7)\n",
            "Requirement already satisfied: shellingham>=1.3.0 in /usr/local/lib/python3.10/dist-packages (from typer<1.0,>=0.12->gradio) (1.5.4)\n",
            "Requirement already satisfied: rich>=10.11.0 in /usr/local/lib/python3.10/dist-packages (from typer<1.0,>=0.12->gradio) (13.7.1)\n",
            "Requirement already satisfied: starlette<0.38.0,>=0.37.2 in /usr/local/lib/python3.10/dist-packages (from fastapi->gradio) (0.37.2)\n",
            "Requirement already satisfied: attrs>=22.2.0 in /usr/local/lib/python3.10/dist-packages (from jsonschema>=3.0->altair<6.0,>=4.2.0->gradio) (23.2.0)\n",
            "Requirement already satisfied: jsonschema-specifications>=2023.03.6 in /usr/local/lib/python3.10/dist-packages (from jsonschema>=3.0->altair<6.0,>=4.2.0->gradio) (2023.12.1)\n",
            "Requirement already satisfied: referencing>=0.28.4 in /usr/local/lib/python3.10/dist-packages (from jsonschema>=3.0->altair<6.0,>=4.2.0->gradio) (0.35.0)\n",
            "Requirement already satisfied: rpds-py>=0.7.1 in /usr/local/lib/python3.10/dist-packages (from jsonschema>=3.0->altair<6.0,>=4.2.0->gradio) (0.18.0)\n",
            "Requirement already satisfied: six>=1.5 in /usr/local/lib/python3.10/dist-packages (from python-dateutil>=2.7->matplotlib~=3.0->gradio) (1.16.0)\n",
            "Requirement already satisfied: markdown-it-py>=2.2.0 in /usr/local/lib/python3.10/dist-packages (from rich>=10.11.0->typer<1.0,>=0.12->gradio) (3.0.0)\n",
            "Requirement already satisfied: pygments<3.0.0,>=2.13.0 in /usr/local/lib/python3.10/dist-packages (from rich>=10.11.0->typer<1.0,>=0.12->gradio) (2.16.1)\n",
            "Requirement already satisfied: exceptiongroup in /usr/local/lib/python3.10/dist-packages (from anyio->httpx>=0.24.1->gradio) (1.2.1)\n",
            "Requirement already satisfied: charset-normalizer<4,>=2 in /usr/local/lib/python3.10/dist-packages (from requests->huggingface-hub>=0.19.3->gradio) (3.3.2)\n",
            "Requirement already satisfied: mdurl~=0.1 in /usr/local/lib/python3.10/dist-packages (from markdown-it-py>=2.2.0->rich>=10.11.0->typer<1.0,>=0.12->gradio) (0.1.2)\n",
            "Requirement already satisfied: datasets in /usr/local/lib/python3.10/dist-packages (2.19.0)\n",
            "Requirement already satisfied: filelock in /usr/local/lib/python3.10/dist-packages (from datasets) (3.13.4)\n",
            "Requirement already satisfied: numpy>=1.17 in /usr/local/lib/python3.10/dist-packages (from datasets) (1.25.2)\n",
            "Requirement already satisfied: pyarrow>=12.0.0 in /usr/local/lib/python3.10/dist-packages (from datasets) (14.0.2)\n",
            "Requirement already satisfied: pyarrow-hotfix in /usr/local/lib/python3.10/dist-packages (from datasets) (0.6)\n",
            "Requirement already satisfied: dill<0.3.9,>=0.3.0 in /usr/local/lib/python3.10/dist-packages (from datasets) (0.3.8)\n",
            "Requirement already satisfied: pandas in /usr/local/lib/python3.10/dist-packages (from datasets) (2.0.3)\n",
            "Requirement already satisfied: requests>=2.19.0 in /usr/local/lib/python3.10/dist-packages (from datasets) (2.31.0)\n",
            "Requirement already satisfied: tqdm>=4.62.1 in /usr/local/lib/python3.10/dist-packages (from datasets) (4.66.2)\n",
            "Requirement already satisfied: xxhash in /usr/local/lib/python3.10/dist-packages (from datasets) (3.4.1)\n",
            "Requirement already satisfied: multiprocess in /usr/local/lib/python3.10/dist-packages (from datasets) (0.70.16)\n",
            "Requirement already satisfied: fsspec[http]<=2024.3.1,>=2023.1.0 in /usr/local/lib/python3.10/dist-packages (from datasets) (2023.6.0)\n",
            "Requirement already satisfied: aiohttp in /usr/local/lib/python3.10/dist-packages (from datasets) (3.9.5)\n",
            "Requirement already satisfied: huggingface-hub>=0.21.2 in /usr/local/lib/python3.10/dist-packages (from datasets) (0.22.2)\n",
            "Requirement already satisfied: packaging in /usr/local/lib/python3.10/dist-packages (from datasets) (24.0)\n",
            "Requirement already satisfied: pyyaml>=5.1 in /usr/local/lib/python3.10/dist-packages (from datasets) (6.0.1)\n",
            "Requirement already satisfied: aiosignal>=1.1.2 in /usr/local/lib/python3.10/dist-packages (from aiohttp->datasets) (1.3.1)\n",
            "Requirement already satisfied: attrs>=17.3.0 in /usr/local/lib/python3.10/dist-packages (from aiohttp->datasets) (23.2.0)\n",
            "Requirement already satisfied: frozenlist>=1.1.1 in /usr/local/lib/python3.10/dist-packages (from aiohttp->datasets) (1.4.1)\n",
            "Requirement already satisfied: multidict<7.0,>=4.5 in /usr/local/lib/python3.10/dist-packages (from aiohttp->datasets) (6.0.5)\n",
            "Requirement already satisfied: yarl<2.0,>=1.0 in /usr/local/lib/python3.10/dist-packages (from aiohttp->datasets) (1.9.4)\n",
            "Requirement already satisfied: async-timeout<5.0,>=4.0 in /usr/local/lib/python3.10/dist-packages (from aiohttp->datasets) (4.0.3)\n",
            "Requirement already satisfied: typing-extensions>=3.7.4.3 in /usr/local/lib/python3.10/dist-packages (from huggingface-hub>=0.21.2->datasets) (4.11.0)\n",
            "Requirement already satisfied: charset-normalizer<4,>=2 in /usr/local/lib/python3.10/dist-packages (from requests>=2.19.0->datasets) (3.3.2)\n",
            "Requirement already satisfied: idna<4,>=2.5 in /usr/local/lib/python3.10/dist-packages (from requests>=2.19.0->datasets) (3.7)\n",
            "Requirement already satisfied: urllib3<3,>=1.21.1 in /usr/local/lib/python3.10/dist-packages (from requests>=2.19.0->datasets) (2.0.7)\n",
            "Requirement already satisfied: certifi>=2017.4.17 in /usr/local/lib/python3.10/dist-packages (from requests>=2.19.0->datasets) (2024.2.2)\n",
            "Requirement already satisfied: python-dateutil>=2.8.2 in /usr/local/lib/python3.10/dist-packages (from pandas->datasets) (2.8.2)\n",
            "Requirement already satisfied: pytz>=2020.1 in /usr/local/lib/python3.10/dist-packages (from pandas->datasets) (2023.4)\n",
            "Requirement already satisfied: tzdata>=2022.1 in /usr/local/lib/python3.10/dist-packages (from pandas->datasets) (2024.1)\n",
            "Requirement already satisfied: six>=1.5 in /usr/local/lib/python3.10/dist-packages (from python-dateutil>=2.8.2->pandas->datasets) (1.16.0)\n"
          ]
        }
      ]
    },
    {
      "cell_type": "code",
      "execution_count": 83,
      "metadata": {
        "id": "lie9Jrw4ezOZ"
      },
      "outputs": [],
      "source": [
        "!pip install wandb -qU"
      ]
    },
    {
      "cell_type": "code",
      "execution_count": null,
      "metadata": {
        "id": "Vmc78_hXezOZ"
      },
      "outputs": [],
      "source": [
        "# Log in to your W&B account\n",
        "import wandb"
      ]
    },
    {
      "cell_type": "code",
      "execution_count": null,
      "metadata": {
        "id": "MVdXxrUoezOZ"
      },
      "outputs": [],
      "source": [
        "wandb.login()"
      ]
    },
    {
      "cell_type": "markdown",
      "source": [
        "## 1.2 - `Setup` - Imports"
      ],
      "metadata": {
        "id": "l1T8XDeQT2QC"
      }
    },
    {
      "cell_type": "code",
      "source": [
        "import datasets\n",
        "import gradio as gr\n",
        "import json\n",
        "import numpy as np\n",
        "import plotly.express as px\n",
        "import pprint\n",
        "import pandas as pd\n",
        "# import tiktoken\n",
        "import torch\n",
        "import torch.nn as nn\n",
        "import torch.nn.functional as F\n",
        "import transformer_lens\n",
        "\n",
        "from dataclasses import dataclass, field, fields\n",
        "from datasets import load_dataset\n",
        "from huggingface_hub import HfApi\n",
        "from IPython.display import HTML\n",
        "from functools import partial\n",
        "from transformers import GPT2TokenizerFast\n",
        "from tqdm.auto import tqdm\n",
        "from transformer_lens import (\n",
        "    # HookedTransformer,\n",
        "    utils\n",
        ")\n",
        "from typing import Any, Dict\n",
        "\n",
        "\n",
        "seed = 49\n",
        "DTYPES = {\"fp32\": torch.float32, \"fp16\": torch.float16, \"bf16\": torch.bfloat16}"
      ],
      "metadata": {
        "id": "dUf6nhkuTggs"
      },
      "execution_count": 97,
      "outputs": []
    },
    {
      "cell_type": "markdown",
      "source": [
        "## 1.3 `Setup` - Config definition and initialization"
      ],
      "metadata": {
        "id": "Bt40upYG7sjz"
      }
    },
    {
      "cell_type": "code",
      "source": [
        "@dataclass\n",
        "class ModelConfig:\n",
        "    name: str\n",
        "    max_length: int\n",
        "    batch_size: int\n",
        "    learning_rate = 1e-4\n",
        "    dtype: Any\n",
        "    seed: Any\n",
        "\n",
        "class TransformerConfig(ModelConfig):\n",
        "    vocabulary_size: int\n",
        "    num_layers: int\n",
        "    num_heads: int\n",
        "    embed_dim: int\n",
        "    hidden_dim: int\n",
        "    nonlinearity: Any\n",
        "\n",
        "\n",
        "class AutoEncoderConfig(ModelConfig):\n",
        "    batch_size: int\n",
        "    buffer_mult: int\n",
        "    num_tokens = int(2e9)\n",
        "    l1_coeff: float\n",
        "    beta1: float\n",
        "    beta2: float\n",
        "    dict_mult: float\n",
        "    seq_len: int\n",
        "    d_mlp: int\n",
        "    enc_dtype: Any\n",
        "    remove_rare_dir: bool\n",
        "\n",
        "\n",
        "@dataclass\n",
        "class DataConfig:\n",
        "    name: str\n",
        "    data: Any\n",
        "\n",
        "@dataclass\n",
        "class TrainingConfig:\n",
        "    num_steps: int\n",
        "    transformer_learning_rate: float\n",
        "    autoencoder_learning_rate: float\n",
        "    optimizer: Any\n",
        "    batch_size: int\n",
        "    device: Any\n",
        "\n",
        "\n",
        "@dataclass\n",
        "class Config:\n",
        "    transformer: Any\n",
        "    autoencoder: Any\n",
        "    data: Any\n",
        "    training: Any\n",
        "\n",
        "\n",
        "# Model Configurations\n",
        "# Transformer Configuration\n",
        "model_name = \"openai-community/gpt2\"\n",
        "tokenizer = GPT2TokenizerFast.from_pretrained(model_name)\n",
        "batch_size = 1\n",
        "training_steps = 1e5\n",
        "transformer_learning_rate = 1e-5\n",
        "max_length = 2**7  # 2**7 = 128\n",
        "vocab_size = len(tokenizer)  # <s>I think this is the GPT-2 vocab size, or close to it</s>\n",
        "embed_dim = max_length * 4  # Setting the embedding dimension to just be 4x the max length, seems like a relatively reasonable starting point, but I could be wrong...\n",
        "hidden_dim = 1028  # Can't remember if this is actually needed...\n",
        "num_layers = 2  # Trying to reproduce results from https://transformer-circuits.pub/2023/monosemantic-features/index.html\n",
        "block_size = 2**3  # 8\n",
        "num_heads = max_length % block_size  # I believe this will make it so each head (except the last one) computes the attention matrix across blocks of 8 tokens\n",
        "transformer_config = {\n",
        "    \"seed\": seed,\n",
        "    \"name\": model_name,\n",
        "    \"batch_size\": batch_size,\n",
        "    \"max_length\": max_length,\n",
        "    \"vocabulary_size\": vocab_size,\n",
        "    \"embed_dim\": embed_dim,\n",
        "    \"hidden_dim\": hidden_dim,\n",
        "    \"num_layers\": num_layers,\n",
        "    \"num_heads\": num_heads,\n",
        "    \"nonlinearity\": nn.ReLU,  # Will change this to gelu/other later.\n",
        "    \"dtype\": DTYPES[\"bf16\"],\n",
        "}\n",
        "transformer_config = TransformerConfig(**transformer_config)\n",
        "\n",
        "# Autoencoder Configuration\n",
        "batch_size = 4096  # tokens?\n",
        "buffer_mult = 384  #??\n",
        "autoencoder_learning_rate = 1e-4\n",
        "num_tokens = int(2e9)  #??\n",
        "l1_coeff = 3e-4\n",
        "beta1 = 0.9\n",
        "beta2 = 0.99\n",
        "dict_mult = 8  # <- scaling factor for dictionary learning\n",
        "seq_len = max_length\n",
        "d_mlp = transformer_config.hidden_dim #2048\n",
        "enc_dtype = transformer_config.dtype #\"fp32\"\n",
        "remove_rare_dir = False\n",
        "autoencoder_config = {\n",
        "    \"seed\": seed,\n",
        "    \"batch_size\": batch_size,\n",
        "    \"buffer_mult\": buffer_mult,\n",
        "    \"autoencoder_learning_rate\": autoencoder_learning_rate,\n",
        "    \"num_tokens\": num_tokens,\n",
        "    \"l1_coeff\": l1_coeff,\n",
        "    \"beta1\": beta1,\n",
        "    \"beta2\": beta2,\n",
        "    \"dict_mult\": dict_mult,\n",
        "    \"seq_len\": seq_len,\n",
        "    \"d_mlp\": d_mlp,\n",
        "    \"enc_dtype\": enc_dtype,\n",
        "    \"remove_rare_dir\": remove_rare_dir,\n",
        "\n",
        "}\n",
        "autoencoder_config[\"model_batch_size\"] = 64\n",
        "autoencoder_config[\"buffer_size\"] = autoencoder_config[\"batch_size\"] * autoencoder_config[\"buffer_mult\"]\n",
        "autoencoder_config[\"buffer_batches\"] = autoencoder_config[\"buffer_size\"] // autoencoder_config[\"seq_len\"]\n",
        "autoencoder_config = AutoEncoderConfig(**autoencoder_config)\n",
        "\n",
        "\n",
        "# - [X] TODO: Find dataset: https://huggingface.co/datasets\n",
        "# - [ ] TODO: Grab tiny shakespear dataset and process it for faster development iterations.\n",
        "dataset_name = \"piqa\"\n",
        "#dataset_name = \"Skylion007/openwebtext\"\n",
        "data = load_dataset(dataset_name, split=\"sample\", trust_remote_code=True)\n",
        "\n",
        "# # data = load_dataset(\"NeelNanda/c4-code-20k\", split=\"train\")\n",
        "# tokenized_data = utils.tokenize_and_concatenate(data, tokenizer, max_length=512)\n",
        "# tokenized_data = tokenized_data.shuffle(42)\n",
        "# all_tokens = tokenized_data[\"tokens\"]\n",
        "\n",
        "# Configuration initialization.\n",
        "config = Config(\n",
        "    # - [X] TODO: Fill this out as much as possible at once during initialization!\n",
        "    transformer=transformer_config,\n",
        "    autoencoder=autoencoder_config,\n",
        "    data=DataConfig(\n",
        "        **{\n",
        "            \"name\": dataset_name,\n",
        "            \"data\": data\n",
        "          }\n",
        "    ),\n",
        "    training=TrainingConfig(\n",
        "        **{\n",
        "            \"batch_size\": batch_size,\n",
        "            \"num_steps\": training_steps,\n",
        "            \"transformer_learning_rate\": transformer_learning_rate,\n",
        "            \"autoencoder_learning_rate\": autoencoder_learning_rate,\n",
        "            \"optimizer\": None,\n",
        "\n",
        "          }\n",
        "    )\n",
        ")"
      ],
      "metadata": {
        "id": "KAqaIhlF7sGM",
        "outputId": "120a338b-86ee-43ef-d5ab-85352c638e26",
        "colab": {
          "base_uri": "https://localhost:8080/",
          "height": 211
        }
      },
      "execution_count": 99,
      "outputs": [
        {
          "output_type": "error",
          "ename": "TypeError",
          "evalue": "ModelConfig.__init__() got an unexpected keyword argument 'buffer_mult'",
          "traceback": [
            "\u001b[0;31m---------------------------------------------------------------------------\u001b[0m",
            "\u001b[0;31mTypeError\u001b[0m                                 Traceback (most recent call last)",
            "\u001b[0;32m<ipython-input-99-02b0311b7e38>\u001b[0m in \u001b[0;36m<cell line: 99>\u001b[0;34m()\u001b[0m\n\u001b[1;32m     97\u001b[0m \u001b[0mautoencoder_config\u001b[0m\u001b[0;34m[\u001b[0m\u001b[0;34m\"buffer_size\"\u001b[0m\u001b[0;34m]\u001b[0m \u001b[0;34m=\u001b[0m \u001b[0mautoencoder_config\u001b[0m\u001b[0;34m[\u001b[0m\u001b[0;34m\"batch_size\"\u001b[0m\u001b[0;34m]\u001b[0m \u001b[0;34m*\u001b[0m \u001b[0mautoencoder_config\u001b[0m\u001b[0;34m[\u001b[0m\u001b[0;34m\"buffer_mult\"\u001b[0m\u001b[0;34m]\u001b[0m\u001b[0;34m\u001b[0m\u001b[0;34m\u001b[0m\u001b[0m\n\u001b[1;32m     98\u001b[0m \u001b[0mautoencoder_config\u001b[0m\u001b[0;34m[\u001b[0m\u001b[0;34m\"buffer_batches\"\u001b[0m\u001b[0;34m]\u001b[0m \u001b[0;34m=\u001b[0m \u001b[0mautoencoder_config\u001b[0m\u001b[0;34m[\u001b[0m\u001b[0;34m\"buffer_size\"\u001b[0m\u001b[0;34m]\u001b[0m \u001b[0;34m//\u001b[0m \u001b[0mautoencoder_config\u001b[0m\u001b[0;34m[\u001b[0m\u001b[0;34m\"seq_len\"\u001b[0m\u001b[0;34m]\u001b[0m\u001b[0;34m\u001b[0m\u001b[0;34m\u001b[0m\u001b[0m\n\u001b[0;32m---> 99\u001b[0;31m \u001b[0mautoencoder_config\u001b[0m \u001b[0;34m=\u001b[0m \u001b[0mModelConfig\u001b[0m\u001b[0;34m(\u001b[0m\u001b[0;34m**\u001b[0m\u001b[0mautoencoder_config\u001b[0m\u001b[0;34m)\u001b[0m\u001b[0;34m\u001b[0m\u001b[0;34m\u001b[0m\u001b[0m\n\u001b[0m\u001b[1;32m    100\u001b[0m \u001b[0;34m\u001b[0m\u001b[0m\n\u001b[1;32m    101\u001b[0m \u001b[0;34m\u001b[0m\u001b[0m\n",
            "\u001b[0;31mTypeError\u001b[0m: ModelConfig.__init__() got an unexpected keyword argument 'buffer_mult'"
          ]
        }
      ]
    },
    {
      "cell_type": "markdown",
      "source": [
        "## 1.4 - `Models` - Define the Models"
      ],
      "metadata": {
        "id": "y8ZmfyVBUWCa"
      }
    },
    {
      "cell_type": "markdown",
      "source": [
        "\n",
        "### 1.4.1 - Autoencoder"
      ],
      "metadata": {
        "id": "R3msnJbzT4Rd"
      }
    },
    {
      "cell_type": "code",
      "source": [
        "# 1. - [ ] TODO: Reimplement my own AutoEncoder from scratch.\n",
        "class AutoEncoder(nn.Module):\n",
        "    def __init__(self, config: AutoEncoderConfig, **kwargs):\n",
        "        super().__init__()\n",
        "        self.config = config\n",
        "\n",
        "    def forward(self, x):\n",
        "        ...\n",
        "\n",
        "# 2. - [X] TODO: Understand the autoencoder, both in terms of architecture as well as in terms of how we are trying to use it.\n",
        "#       This will be important in understanding the link between this aspect of MI and the mathematics that describes SUSY.\n",
        "\n",
        "\n"
      ],
      "metadata": {
        "id": "S3ypesK0T67l"
      },
      "execution_count": null,
      "outputs": []
    },
    {
      "cell_type": "markdown",
      "source": [
        "### 1.4.2 - Transformer"
      ],
      "metadata": {
        "id": "zJUE_j_Tg0VE"
      }
    },
    {
      "cell_type": "code",
      "source": [
        "# TODOs:\n",
        "# 1. - [X] TODO: Try and build the transformer from scratch without any help, as an exercise.\n",
        "# 2. - [ ] TODO: After getting as far as possible from memory, reference some examples to finish implementing the code below.\n",
        "\n",
        "###################################################################################\n",
        "\n",
        "# Attempt #1:\n",
        "# 1. - [X] TODO: Initialize the following classes:\n",
        "        # 1.1 - [X] TODO: Initialize the class for Attention\n",
        "        # 1.2 - [X] TODO: Initialize the class for MLP\n",
        "        # 1.3 - [X] TODO: Initialize MHSA\n",
        "        # 1.4 - [X] TODO: Initialize TransformerBlock(MHSA)\n",
        "        # 1.5 - [X] TODO: Initialize TransformerLanguageModel\n",
        "# 2. - [ ] TODO: DEBUG\n",
        "#---------------------------------------------------------------------------------#\n",
        "class Attention(nn.Module):\n",
        "    def __init__(self, config: TransformerConfig, **kwargs):\n",
        "        super().__init__()\n",
        "        self.config = config\n",
        "        ...\n",
        "\n",
        "    def forward(self, x):\n",
        "        ...\n",
        "\n",
        "# - [X] TODO: 2. Implement the class for MLP\n",
        "# This one should be pretty easy, hopefully...\n",
        "class MLP(nn.Module):\n",
        "    def __init__(self, config: TransformerConfig, **kwargs):\n",
        "        super().__init__()\n",
        "        self.config = config\n",
        "        if kwargs.get(\"type\", \"attn\")==\"atn\":\n",
        "            self.fc = nn.Linear(config.hidden_dim, config.hidden_dim)\n",
        "        else:\n",
        "            self.fc = nn.Linear(config.hidden_dim, config.vocabulary_size)\n",
        "\n",
        "    def forward(self, x):\n",
        "        return self.fc(x)\n",
        "\n",
        "\n",
        "class MHSA(nn.Module):\n",
        "    def __init__(self, config: TransformerConfig, **kwargs):\n",
        "        super().__init__()\n",
        "        self.config = config\n",
        "        ...\n",
        "\n",
        "    def forward(self, x):\n",
        "      ...\n",
        "\n",
        "class TransformerBlock(MHSA):\n",
        "    def __init__(self, config: TransformerConfig, **kwargs):\n",
        "        super().__init__(config=config)\n",
        "        self.config = config\n",
        "        ...\n",
        "\n",
        "    def forward(self, x):\n",
        "        ...\n",
        "\n",
        "\n",
        "\n",
        "\n",
        "\n",
        "# - [X] TODO: Implement the class for Transformer.\n",
        "# - [X] TODO: Try and remember how to construct the rest of the transformer...\n",
        "# - [ ] TODO: Look at the docs and then try to finish up what we have so far...\n",
        "# - [ ] TODO: Integrate the AutoEncoder directly into the Transformer...\n",
        "class Transformer(nn.Module):\n",
        "    def __init__(self, config: TransformerConfig|Dict, **kwargs):\n",
        "        super().__init__()\n",
        "        if not isinstance(config, TransformerConfig):\n",
        "          config = TransformerConfig(**config)\n",
        "        self.config = config\n",
        "        self.layers = nn.Sequential(\n",
        "            nn.Embedding(num_embeddings=config.vocabulary_size, embedding_dim=config.embed_dim),\n",
        "        )\n",
        "\n",
        "\n",
        "    def forward(self, x):\n",
        "        ...\n",
        "\n",
        "    def generate(self, inp, **kwargs):\n",
        "        ...\n",
        "\n",
        "###################################################################################"
      ],
      "metadata": {
        "id": "p5kuP89Cg3Bw"
      },
      "execution_count": null,
      "outputs": []
    },
    {
      "cell_type": "markdown",
      "source": [
        "## 1.5 - `Function Defs` - Utils\n"
      ],
      "metadata": {
        "id": "kju5GpaKVI80"
      }
    },
    {
      "cell_type": "markdown",
      "source": [
        "### 1.4.1 - `Function Defs` - \"Standard Lib\""
      ],
      "metadata": {
        "id": "copY5zhlgb8M"
      }
    },
    {
      "cell_type": "markdown",
      "source": [
        "#### `Function Def` - Train the Language Model"
      ],
      "metadata": {
        "id": "EHGizhCXAonF"
      }
    },
    {
      "cell_type": "code",
      "source": [
        "# - [X] TODO: Implement training logic\n",
        "def train(model, tokenizer, data, config: TrainingConfig|None=None, **kwargs):\n",
        "    device = config.device or kwargs.get(\"device\", \"cuda\" if torch.cuda.is_available() else \"cpu\")\n",
        "    model.to(device)\n",
        "\n",
        "    train_data = data[:round(0.8*len(data))]\n",
        "    val_data = data[round(0.8*len(data)):round(0.9*len(data))]\n",
        "    test_data = data[round(0.9*len(data)):]\n",
        "\n",
        "    eval_every_n_batches = kwargs.get(\"eval_every_n_batches\", 1e4)\n",
        "    max_steps = kwargs.get(\"num_steps\", 1e5)\n",
        "\n",
        "    optimizer = kwargs.get(\"optimizer\")\n",
        "\n",
        "    loss_fn = kwargs.get(\"loss_fn\", F.binary_cross_entropy_with_logits)\n",
        "\n",
        "    for i in tqdm(range(len(train_data)), desc=\"Running training loop...\"):\n",
        "        model.train()\n",
        "        train_example = train_data[i]\n",
        "\n",
        "        model_input = tokenizer.encode(train_example[\"text\"], padding=\"max_length\", truncate=True, max_length=512, return_tensors=\"pt\").to(device)\n",
        "        model_output = model(**model_input)\n",
        "\n",
        "\n",
        "        if i % eval_every_n_batches == 0:\n",
        "            with torch.no_grad():\n",
        "                for j in tqdm(range(len(val_data)), desc=\"Running validation loop...\"):\n",
        "                    val_example = val_data[j]\n",
        "\n",
        "\n",
        "\n",
        "\n",
        "        if i >= max_steps:\n",
        "          break\n",
        "\n",
        "      return test_data\n"
      ],
      "metadata": {
        "id": "lLKz3olJAtHW"
      },
      "execution_count": null,
      "outputs": []
    },
    {
      "cell_type": "markdown",
      "source": [
        "#### `Function Def` - Evaluate the Language Model"
      ],
      "metadata": {
        "id": "GOd-KyMJ6-vK"
      }
    },
    {
      "cell_type": "code",
      "source": [
        "@torch.no_grad()\n",
        "def evaluate(model, data):\n",
        "    ..."
      ],
      "metadata": {
        "id": "pGLnzmjb6_OG"
      },
      "execution_count": null,
      "outputs": []
    },
    {
      "cell_type": "markdown",
      "source": [
        "### 1.4.2 - `Function Defs` - Mechanistic Interpretibility"
      ],
      "metadata": {
        "id": "VfFLR5cnghBZ"
      }
    },
    {
      "cell_type": "markdown",
      "source": [
        "#### 1.4.2.1 - `Function Defs` - Get Reconstruction Loss"
      ],
      "metadata": {
        "id": "3jR9xXgyVbih"
      }
    },
    {
      "cell_type": "code",
      "source": [
        "def replacement_hook(mlp_post, hook, encoder):\n",
        "    mlp_post_reconstr = encoder(mlp_post)[1]\n",
        "    return mlp_post_reconstr\n",
        "\n",
        "def mean_ablate_hook(mlp_post, hook):\n",
        "    mlp_post[:] = mlp_post.mean([0, 1])\n",
        "    return mlp_post\n",
        "\n",
        "def zero_ablate_hook(mlp_post, hook):\n",
        "    mlp_post[:] = 0.\n",
        "    return mlp_post\n",
        "\n",
        "@torch.no_grad()\n",
        "def get_recons_loss(num_batches=5, local_encoder=None):\n",
        "    if local_encoder is None:\n",
        "        local_encoder = encoder\n",
        "    loss_list = []\n",
        "    for i in range(num_batches):\n",
        "        tokens = all_tokens[torch.randperm(len(all_tokens))[:cfg[\"model_batch_size\"]]]\n",
        "        loss = model(tokens, return_type=\"loss\")\n",
        "        recons_loss = model.run_with_hooks(tokens, return_type=\"loss\", fwd_hooks=[(utils.get_act_name(\"post\", 0), partial(replacement_hook, encoder=local_encoder))])\n",
        "        # mean_abl_loss = model.run_with_hooks(tokens, return_type=\"loss\", fwd_hooks=[(utils.get_act_name(\"post\", 0), mean_ablate_hook)])\n",
        "        zero_abl_loss = model.run_with_hooks(tokens, return_type=\"loss\", fwd_hooks=[(utils.get_act_name(\"post\", 0), zero_ablate_hook)])\n",
        "        loss_list.append((loss, recons_loss, zero_abl_loss))\n",
        "    losses = torch.tensor(loss_list)\n",
        "    loss, recons_loss, zero_abl_loss = losses.mean(0).tolist()\n",
        "\n",
        "    print(f\"loss: {loss:.4f}, recons_loss: {recons_loss:.4f}, zero_abl_loss: {zero_abl_loss:.4f}\")\n",
        "    score = ((zero_abl_loss - recons_loss)/(zero_abl_loss - loss))\n",
        "    print(f\"Reconstruction Score: {score:.2%}\")\n",
        "    # print(f\"{((zero_abl_loss - mean_abl_loss)/(zero_abl_loss - loss)).item():.2%}\")\n",
        "    return score, loss, recons_loss, zero_abl_loss"
      ],
      "metadata": {
        "id": "E-XN_do8VabW"
      },
      "execution_count": null,
      "outputs": []
    },
    {
      "cell_type": "markdown",
      "source": [
        "#### 1.4.2.2 - `Function Defs` - Get Frequencies"
      ],
      "metadata": {
        "id": "zxzbXJvLVhV0"
      }
    },
    {
      "cell_type": "code",
      "source": [
        "# Frequency\n",
        "@torch.no_grad()\n",
        "def get_freqs(model, all_tokens, num_batches=25, local_encoder=None, autoencoder_config: ModelConfig):\n",
        "    act_freq_scores = torch.zeros(local_encoder.d_hidden, dtype=torch.float32).cuda()\n",
        "    total = 0\n",
        "    for i in tqdm(num_batches):\n",
        "        tokens = all_tokens[torch.randperm(len(all_tokens))[:autoencoder_config.model_batch_size]]\n",
        "\n",
        "        _, cache = model.run_with_cache(tokens, stop_at_layer=1, names_filter=utils.get_act_name(\"post\", 0))\n",
        "        mlp_acts = cache[utils.get_act_name(\"post\", 0)]\n",
        "        mlp_acts = mlp_acts.reshape(-1, d_mlp)\n",
        "\n",
        "        hidden = local_encoder(mlp_acts)[2]\n",
        "\n",
        "        act_freq_scores += (hidden > 0).sum(0)\n",
        "        total+=hidden.shape[0]\n",
        "    act_freq_scores /= total\n",
        "    num_dead = (act_freq_scores==0).float().mean()\n",
        "    print(\"Num dead\", num_dead)\n",
        "    return act_freq_scores"
      ],
      "metadata": {
        "id": "y_UReEIDVjzo"
      },
      "execution_count": null,
      "outputs": []
    },
    {
      "cell_type": "markdown",
      "source": [
        "#### 1.4.2.3 - `Functions Defs` - Visualise Feature Utils"
      ],
      "metadata": {
        "id": "IAr8Tr8sVn-w"
      }
    },
    {
      "cell_type": "code",
      "source": [
        "from html import escape\n",
        "import colorsys\n",
        "\n",
        "from IPython.display import display\n",
        "\n",
        "SPACE = \"·\"\n",
        "NEWLINE=\"↩\"\n",
        "TAB = \"→\"\n",
        "\n",
        "def create_html(strings, values, max_value=None, saturation=0.5, allow_different_length=False, return_string=False):\n",
        "    # escape strings to deal with tabs, newlines, etc.\n",
        "    escaped_strings = [escape(s, quote=True) for s in strings]\n",
        "    processed_strings = [\n",
        "        s.replace(\"\\n\", f\"{NEWLINE}<br/>\").replace(\"\\t\", f\"{TAB}&emsp;\").replace(\" \", \"&nbsp;\")\n",
        "        for s in escaped_strings\n",
        "    ]\n",
        "\n",
        "    if isinstance(values, torch.Tensor) and len(values.shape)>1:\n",
        "        values = values.flatten().tolist()\n",
        "\n",
        "    if not allow_different_length:\n",
        "        assert len(processed_strings) == len(values)\n",
        "\n",
        "    # scale values\n",
        "    if max_value is None:\n",
        "        max_value = max(max(values), -min(values))+1e-3\n",
        "    scaled_values = [v / max_value * saturation for v in values]\n",
        "\n",
        "    # create html\n",
        "    html = \"\"\n",
        "    for i, s in enumerate(processed_strings):\n",
        "        if i<len(scaled_values):\n",
        "            v = scaled_values[i]\n",
        "        else:\n",
        "            v = 0\n",
        "        if v < 0:\n",
        "            hue = 0  # hue for red in HSV\n",
        "        else:\n",
        "            hue = 0.66  # hue for blue in HSV\n",
        "        rgb_color = colorsys.hsv_to_rgb(\n",
        "            hue, v, 1\n",
        "        )  # hsv color with hue 0.66 (blue), saturation as v, value 1\n",
        "        hex_color = \"#%02x%02x%02x\" % (\n",
        "            int(rgb_color[0] * 255),\n",
        "            int(rgb_color[1] * 255),\n",
        "            int(rgb_color[2] * 255),\n",
        "        )\n",
        "        html += f'<span style=\"background-color: {hex_color}; border: 1px solid lightgray; font-size: 16px; border-radius: 3px;\">{s}</span>'\n",
        "    if return_string:\n",
        "        return html\n",
        "    else:\n",
        "        display(HTML(html))\n",
        "\n",
        "def basic_feature_vis(encoder, text, feature_index, max_val=0):\n",
        "    feature_in = encoder.W_enc[:, feature_index]\n",
        "    feature_bias = encoder.b_enc[feature_index]\n",
        "    _, cache = model.run_with_cache(text, stop_at_layer=1, names_filter=utils.get_act_name(\"post\", 0))\n",
        "    mlp_acts = cache[utils.get_act_name(\"post\", 0)][0]\n",
        "    feature_acts = F.relu((mlp_acts - encoder.b_dec) @ feature_in + feature_bias)\n",
        "    if max_val==0:\n",
        "        max_val = max(1e-7, feature_acts.max().item())\n",
        "        # print(max_val)\n",
        "    # if min_val==0:\n",
        "    #     min_val = min(-1e-7, feature_acts.min().item())\n",
        "    return basic_token_vis_make_str(text, feature_acts, max_val)\n",
        "def basic_token_vis_make_str(model, strings, values, max_val=None):\n",
        "    if not isinstance(strings, list):\n",
        "        strings = model.to_str_tokens(strings)\n",
        "    values = utils.to_numpy(values)\n",
        "    if max_val is None:\n",
        "        max_val = values.max()\n",
        "    # if min_val is None:\n",
        "    #     min_val = values.min()\n",
        "    header_string = f\"<h4>Max Range <b>{values.max():.4f}</b> Min Range: <b>{values.min():.4f}</b></h4>\"\n",
        "    header_string += f\"<h4>Set Max Range <b>{max_val:.4f}</b></h4>\"\n",
        "    # values[values>0] = values[values>0]/ma|x_val\n",
        "    # values[values<0] = values[values<0]/abs(min_val)\n",
        "    body_string = create_html(strings, values, max_value=max_val, return_string=True)\n",
        "    return header_string + body_string\n",
        "# display(HTML(basic_token_vis_make_str(tokens[0, :10], mlp_acts[0, :10, 7], 0.1)))\n",
        "# # %%\n",
        "# The `with gr.Blocks() as demo:` syntax just creates a variable called demo containing all these components\n",
        "import gradio as gr\n",
        "try:\n",
        "    demos[0].close()\n",
        "except:\n",
        "    pass\n",
        "demos = [None]\n",
        "def make_feature_vis_gradio(model, feature_id, starting_text=None, batch=None, pos=None):\n",
        "    if starting_text is None:\n",
        "        starting_text = model.to_string(all_tokens[batch, 1:pos+1])\n",
        "    try:\n",
        "        demos[0].close()\n",
        "    except:\n",
        "        pass\n",
        "    with gr.Blocks() as demo:\n",
        "        gr.HTML(value=f\"Hacky Interactive Neuroscope for gelu-1l\")\n",
        "        # The input elements\n",
        "        with gr.Row():\n",
        "            with gr.Column():\n",
        "                text = gr.Textbox(label=\"Text\", value=starting_text)\n",
        "                # Precision=0 makes it an int, otherwise it's a float\n",
        "                # Value sets the initial default value\n",
        "                feature_index = gr.Number(\n",
        "                    label=\"Feature Index\", value=feature_id, precision=0\n",
        "                )\n",
        "                # # If empty, these two map to None\n",
        "                max_val = gr.Number(label=\"Max Value\", value=None)\n",
        "                # min_val = gr.Number(label=\"Min Value\", value=None)\n",
        "                inputs = [text, feature_index, max_val]\n",
        "        with gr.Row():\n",
        "            with gr.Column():\n",
        "                # The output element\n",
        "                out = gr.HTML(label=\"Neuron Acts\", value=basic_feature_vis(starting_text, feature_id))\n",
        "        for inp in inputs:\n",
        "            inp.change(basic_feature_vis, inputs, out)\n",
        "    demo.launch(share=True)\n",
        "    demos[0] = demo"
      ],
      "metadata": {
        "id": "k2Cb-XmrVqgl"
      },
      "execution_count": null,
      "outputs": []
    },
    {
      "cell_type": "markdown",
      "source": [
        "##### `Function Def` - Inspecting Top Logits"
      ],
      "metadata": {
        "id": "O2UuRmEXVtBY"
      }
    },
    {
      "cell_type": "code",
      "source": [
        "SPACE = \"·\"\n",
        "NEWLINE=\"↩\"\n",
        "TAB = \"→\"\n",
        "def process_token(s):\n",
        "    if isinstance(s, torch.Tensor):\n",
        "        s = s.item()\n",
        "    if isinstance(s, np.int64):\n",
        "        s = s.item()\n",
        "    if isinstance(s, int):\n",
        "        s = model.to_string(s)\n",
        "    s = s.replace(\" \", SPACE)\n",
        "    s = s.replace(\"\\n\", NEWLINE+\"\\n\")\n",
        "    s = s.replace(\"\\t\", TAB)\n",
        "    return s\n",
        "\n",
        "def process_tokens(l):\n",
        "    if isinstance(l, str):\n",
        "        l = model.to_str_tokens(l)\n",
        "    elif isinstance(l, torch.Tensor) and len(l.shape)>1:\n",
        "        l = l.squeeze(0)\n",
        "    return [process_token(s) for s in l]\n",
        "\n",
        "def process_tokens_index(l):\n",
        "    if isinstance(l, str):\n",
        "        l = model.to_str_tokens(l)\n",
        "    elif isinstance(l, torch.Tensor) and len(l.shape)>1:\n",
        "        l = l.squeeze(0)\n",
        "    return [f\"{process_token(s)}/{i}\" for i,s in enumerate(l)]\n",
        "\n",
        "def create_vocab_df(logit_vec, make_probs=False, full_vocab=None):\n",
        "    if full_vocab is None:\n",
        "        full_vocab = process_tokens(model.to_str_tokens(torch.arange(model.cfg.d_vocab)))\n",
        "    vocab_df = pd.DataFrame({\"token\": full_vocab, \"logit\": utils.to_numpy(logit_vec)})\n",
        "    if make_probs:\n",
        "        vocab_df[\"log_prob\"] = utils.to_numpy(logit_vec.log_softmax(dim=-1))\n",
        "        vocab_df[\"prob\"] = utils.to_numpy(logit_vec.softmax(dim=-1))\n",
        "    return vocab_df.sort_values(\"logit\", ascending=False)"
      ],
      "metadata": {
        "id": "-SBs3A3PVury"
      },
      "execution_count": null,
      "outputs": []
    },
    {
      "cell_type": "markdown",
      "source": [
        "#### 1.4.2.4 - `Function Defs` - Make Token DataFrame"
      ],
      "metadata": {
        "id": "zaT9C-f4VxgG"
      }
    },
    {
      "cell_type": "code",
      "source": [
        "def list_flatten(nested_list):\n",
        "    return [x for y in nested_list for x in y]\n",
        "def make_token_df(tokens, len_prefix=5, len_suffix=1):\n",
        "    str_tokens = [process_tokens(model.to_str_tokens(t)) for t in tokens]\n",
        "    unique_token = [[f\"{s}/{i}\" for i, s in enumerate(str_tok)] for str_tok in str_tokens]\n",
        "\n",
        "    context = []\n",
        "    batch = []\n",
        "    pos = []\n",
        "    label = []\n",
        "    for b in range(tokens.shape[0]):\n",
        "        # context.append([])\n",
        "        # batch.append([])\n",
        "        # pos.append([])\n",
        "        # label.append([])\n",
        "        for p in range(tokens.shape[1]):\n",
        "            prefix = \"\".join(str_tokens[b][max(0, p-len_prefix):p])\n",
        "            if p==tokens.shape[1]-1:\n",
        "                suffix = \"\"\n",
        "            else:\n",
        "                suffix = \"\".join(str_tokens[b][p+1:min(tokens.shape[1]-1, p+1+len_suffix)])\n",
        "            current = str_tokens[b][p]\n",
        "            context.append(f\"{prefix}|{current}|{suffix}\")\n",
        "            batch.append(b)\n",
        "            pos.append(p)\n",
        "            label.append(f\"{b}/{p}\")\n",
        "    # print(len(batch), len(pos), len(context), len(label))\n",
        "    return pd.DataFrame(dict(\n",
        "        str_tokens=list_flatten(str_tokens),\n",
        "        unique_token=list_flatten(unique_token),\n",
        "        context=context,\n",
        "        batch=batch,\n",
        "        pos=pos,\n",
        "        label=label,\n",
        "    ))"
      ],
      "metadata": {
        "id": "SEk5D7xwVy2D"
      },
      "execution_count": null,
      "outputs": []
    },
    {
      "cell_type": "markdown",
      "source": [
        "# 2. `Implementation` - \"Standard Model\" 😉 Training and Evaluation"
      ],
      "metadata": {
        "id": "44TdMiajg-On"
      }
    },
    {
      "cell_type": "markdown",
      "source": [
        "## 2.1 - Load the Models"
      ],
      "metadata": {
        "id": "WcPFxg3xgYBd"
      }
    },
    {
      "cell_type": "markdown",
      "source": [
        "### 2.1.1 - Loading the Transformer"
      ],
      "metadata": {
        "id": "zLGDRCxrV1VX"
      }
    },
    {
      "cell_type": "code",
      "source": [
        "# - [X] TODO: Load the model.\n",
        "model = Transformer(config=config.model)\n",
        "\n",
        "# - [X] TODO: Understand HookedTransformer from TransformerLens: https://github.com/neelnanda-io/TransformerLens\n",
        "# model = HookedTransformer.from_pretrained(\"gelu-1l\").to(DTYPES[config[\"enc_dtype\"]])"
      ],
      "metadata": {
        "id": "15zw3V1ZgEUl"
      },
      "execution_count": null,
      "outputs": []
    },
    {
      "cell_type": "markdown",
      "source": [
        "### 2.1.2 - Loading the Autoencoder"
      ],
      "metadata": {
        "id": "H54sR30UgFox"
      }
    },
    {
      "cell_type": "code",
      "source": [
        "# - [ ] TODO: Reimplement autoencoder loading using custom model.\n",
        "# auto_encoder_run = \"run1\" # @param [\"run1\", \"run2\"]\n",
        "# encoder = AutoEncoder.load_from_hf(auto_encoder_run)"
      ],
      "metadata": {
        "id": "DEf0VTmgV_yk"
      },
      "execution_count": null,
      "outputs": []
    },
    {
      "cell_type": "markdown",
      "source": [
        "## 2.3 - Train the model"
      ],
      "metadata": {
        "id": "WQ0ILsUtgi7g"
      }
    },
    {
      "cell_type": "code",
      "source": [
        "config.training.optimizer = torch.optim.AdamW(\n",
        "    params=model.parameters(), lr=config.training.learning_rate)\n",
        "test_data = train(\n",
        "    model=model,\n",
        "    tokenizer=tokenizer,\n",
        "    data=data,\n",
        "    **config.training.to_dict()\n",
        ")"
      ],
      "metadata": {
        "id": "etrUAZYIgifj"
      },
      "execution_count": null,
      "outputs": []
    },
    {
      "cell_type": "code",
      "source": [
        "data"
      ],
      "metadata": {
        "id": "prAOShhQwSpq"
      },
      "execution_count": null,
      "outputs": []
    },
    {
      "cell_type": "markdown",
      "source": [
        "## 2.4 - Inspect training metrics and perform abbreviated evaluation"
      ],
      "metadata": {
        "id": "AXXqSB1H7TVd"
      }
    },
    {
      "cell_type": "code",
      "source": [
        "eval_args = {\n",
        "    # - [ ] TODO: Figure out what evaluation arguments are needed...\n",
        "}\n",
        "evaluate(model, test_data, **eval_args)"
      ],
      "metadata": {
        "id": "3otNK95_7Xq9"
      },
      "execution_count": null,
      "outputs": []
    },
    {
      "cell_type": "markdown",
      "source": [
        "# 3. `Implementation` - Mechanistic Interpretability Analysis"
      ],
      "metadata": {
        "id": "EzyPR6QrV-U4"
      }
    },
    {
      "cell_type": "markdown",
      "source": [
        "### 3.1 - Using the Autoencoder\n"
      ],
      "metadata": {
        "id": "4OM8HO6OWH7Z"
      }
    },
    {
      "cell_type": "code",
      "source": [
        "_ = get_recons_loss(num_batches=5, local_encoder=encoder)"
      ],
      "metadata": {
        "id": "2SXB4-mdWK60"
      },
      "execution_count": null,
      "outputs": []
    },
    {
      "cell_type": "markdown",
      "source": [],
      "metadata": {
        "id": "yvxiv_DKWLeB"
      }
    },
    {
      "cell_type": "markdown",
      "source": [
        "### 3.2 - Rare Features Are All The Same"
      ],
      "metadata": {
        "id": "x9Iok8SZB4fg"
      }
    },
    {
      "cell_type": "markdown",
      "source": [
        "For each feature we can get the frequency at which it's non-zero (per token, averaged across a bunch of batches), and plot a histogram"
      ],
      "metadata": {
        "id": "skvpaPClM7Nb"
      }
    },
    {
      "cell_type": "code",
      "source": [
        "freqs = get_freqs(num_batches = 50, local_encoder = encoder)"
      ],
      "metadata": {
        "id": "5SECGnWLNAlg"
      },
      "execution_count": null,
      "outputs": []
    },
    {
      "cell_type": "code",
      "source": [
        "# Add 1e-6.5 so that dead features show up as log_freq -6.5\n",
        "log_freq = (freqs + 10**-6.5).log10()\n",
        "px.histogram(utils.to_numpy(log_freq), title=\"Log Frequency of Features\", histnorm='percent')"
      ],
      "metadata": {
        "id": "_Zn7g7WgNTQD"
      },
      "execution_count": null,
      "outputs": []
    },
    {
      "cell_type": "markdown",
      "source": [
        "We see that it's clearly bimodal! Let's define rare features as those with freq < 1e-4, and look at the cosine sim of each feature with the average rare feature - we see that almost all rare features correspond to this feature!"
      ],
      "metadata": {
        "id": "c612eWjYNpdv"
      }
    },
    {
      "cell_type": "code",
      "source": [
        "is_rare = freqs < 1e-4\n",
        "rare_enc = encoder.W_enc[:, is_rare]\n",
        "rare_mean = rare_enc.mean(-1)\n",
        "px.histogram(utils.to_numpy(rare_mean @ encoder.W_enc / rare_mean.norm() / encoder.W_enc.norm(dim=0)), title=\"Cosine Sim with Ave Rare Feature\", color=utils.to_numpy(is_rare), labels={\"color\": \"is_rare\", \"count\": \"percent\", \"value\": \"cosine_sim\"}, marginal=\"box\", histnorm=\"percent\", barmode='overlay')"
      ],
      "metadata": {
        "id": "GbM9UZsJN0Uy"
      },
      "execution_count": null,
      "outputs": []
    },
    {
      "cell_type": "markdown",
      "source": [
        "### 3.3 - Interpreting A Feature"
      ],
      "metadata": {
        "id": "eZCqUIB9Bzx_"
      }
    },
    {
      "cell_type": "markdown",
      "source": [
        "Let's go and investigate a non rare feature, feature 7"
      ],
      "metadata": {
        "id": "3m_u8-zXRW2J"
      }
    },
    {
      "cell_type": "code",
      "source": [
        "feature_id = 7 # @param {type:\"number\"}\n",
        "batch_size = 128 # @param {type:\"number\"}\n",
        "\n",
        "print(f\"Feature freq: {freqs[7].item():.4f}\")"
      ],
      "metadata": {
        "id": "_HrsTqVIUKC0"
      },
      "execution_count": null,
      "outputs": []
    },
    {
      "cell_type": "markdown",
      "source": [
        "Let's run the model on some text and then use the autoencoder to process the MLP activations"
      ],
      "metadata": {
        "id": "AYoGLyl2VpA-"
      }
    },
    {
      "cell_type": "code",
      "source": [
        "tokens = all_tokens[:batch_size]\n",
        "_, cache = model.run_with_cache(tokens, stop_at_layer=1, names_filter=utils.get_act_name(\"post\", 0))\n",
        "mlp_acts = cache[utils.get_act_name(\"post\", 0)]\n",
        "mlp_acts_flattened = mlp_acts.reshape(-1, cfg[\"d_mlp\"])\n",
        "loss, x_reconstruct, hidden_acts, l2_loss, l1_loss = encoder(mlp_acts_flattened)\n",
        "# This is equivalent to:\n",
        "# hidden_acts = F.relu((mlp_acts_flattened - encoder.b_dec) @ encoder.W_enc + encoder.b_enc)\n",
        "print(\"hidden_acts.shape\", hidden_acts.shape)"
      ],
      "metadata": {
        "id": "TBKY9P_PULJs"
      },
      "execution_count": null,
      "outputs": []
    },
    {
      "cell_type": "markdown",
      "source": [
        "We can now sort and display the top tokens, and we see that this feature activates on text like \" and I\" (ditto for other connectives and pronouns)! It seems interpretable!\n",
        "\n",
        "**Aside:** Note on how to read the context column:\n",
        "\n",
        "A line like \"·himself·as·democratic·socialist·and|·he|·favors\" means that the preceding 5 tokens are \" himself as democratic socialist and\", the current token is \" he\" and the next token is \" favors\".  · are spaces, ↩ is a newline.\n",
        "\n",
        "This gets a bit confusing for this feature, since the pipe separators look a lot like a capital I\n"
      ],
      "metadata": {
        "id": "D0-vxYAIVtxv"
      }
    },
    {
      "cell_type": "code",
      "source": [
        "token_df = make_token_df(tokens)\n",
        "token_df[\"feature\"] = utils.to_numpy(hidden_acts[:, feature_id])\n",
        "token_df.sort_values(\"feature\", ascending=False).head(20).style.background_gradient(\"coolwarm\")"
      ],
      "metadata": {
        "id": "6LQet6vaU60H"
      },
      "execution_count": null,
      "outputs": []
    },
    {
      "cell_type": "markdown",
      "source": [
        "It's easy to misread evidence like the above, so it's useful to take some text and edit it and see how this changes the model's activations. Here's a hacky interactive tool to play around with some text."
      ],
      "metadata": {
        "id": "H_SsYbIhWm43"
      }
    },
    {
      "cell_type": "code",
      "source": [
        "model.cfg"
      ],
      "metadata": {
        "id": "xHWCNBe81qAV"
      },
      "execution_count": null,
      "outputs": []
    },
    {
      "cell_type": "code",
      "source": [
        "s = \"The 1899 Kentucky gubernatorial election was held on November 7, 1899. The Republican incumbent, William Bradley, was term-limited. The Democrats chose William Goebel. Republicans nominated William Taylor. Taylor won by a vote of 193,714 to 191,331. The vote was challenged on grounds of voter fraud, but the Board of Elections, though stocked with pro-Goebel members, certified the result. Democratic legislators began investigations, but before their committee could report, Goebel was shot by an unknown assassin (event pictured) on January 30, 1900. Democrats voided enough votes to swing the election to Goebel, Taylor was deposed, and Goebel was sworn into office on January 31. He died on February 3. The lieutenant governor of Kentucky, J. C. W. Beckham, became governor, and battled Taylor in court. Beckham won on appeal, and Taylor fled to Indiana, fearing arrest as an accomplice. The only persons convicted in connection with the killing were later pardoned; the assassin's identity remains a mystery\"\n",
        "t = model.to_tokens(s)\n",
        "print(t)"
      ],
      "metadata": {
        "id": "wx6MkfEk0osY"
      },
      "execution_count": null,
      "outputs": []
    },
    {
      "cell_type": "code",
      "source": [
        "\n",
        "starting_text = \"Hero and I will head to Samantha and Mark's, then he and she will. Then I or you\" # @param {type:\"string\"}\n",
        "make_feature_vis_gradio(feature_id, starting_text)"
      ],
      "metadata": {
        "id": "HbgjmwTnQman"
      },
      "execution_count": null,
      "outputs": []
    },
    {
      "cell_type": "markdown",
      "source": [
        "# 4. `Conjecture` - Connections with Supersymmetry"
      ],
      "metadata": {
        "id": "vxzEg4XchFe9"
      }
    },
    {
      "cell_type": "markdown",
      "source": [
        "## 4.1 - Notation"
      ],
      "metadata": {
        "id": "_mhMjXIZw3Dk"
      }
    },
    {
      "cell_type": "code",
      "source": [],
      "metadata": {
        "id": "d1qM2PckhMXQ"
      },
      "execution_count": null,
      "outputs": []
    },
    {
      "cell_type": "markdown",
      "source": [
        "## 4.2 - Motivation"
      ],
      "metadata": {
        "id": "6Kow525Uw57l"
      }
    },
    {
      "cell_type": "code",
      "source": [],
      "metadata": {
        "id": "2Ni57IZlw_Ju"
      },
      "execution_count": null,
      "outputs": []
    },
    {
      "cell_type": "markdown",
      "source": [
        "## 4.3 Formalism"
      ],
      "metadata": {
        "id": "u_mCqkVVxBsw"
      }
    },
    {
      "cell_type": "code",
      "source": [],
      "metadata": {
        "id": "m2T4BRqoxFDT"
      },
      "execution_count": null,
      "outputs": []
    },
    {
      "cell_type": "markdown",
      "source": [
        "# 5. `Conjecture` - Next Steps"
      ],
      "metadata": {
        "id": "Y8o7zwIHxQUw"
      }
    },
    {
      "cell_type": "code",
      "source": [],
      "metadata": {
        "id": "HuxzKQeexRrA"
      },
      "execution_count": null,
      "outputs": []
    },
    {
      "cell_type": "markdown",
      "source": [
        "# 6. References"
      ],
      "metadata": {
        "id": "L759zICsht0C"
      }
    },
    {
      "cell_type": "markdown",
      "source": [],
      "metadata": {
        "id": "NZaMtzWhhw_B"
      }
    }
  ],
  "metadata": {
    "kernelspec": {
      "display_name": "Python 3",
      "language": "python",
      "name": "python3"
    },
    "language_info": {
      "name": "python",
      "version": "3.12.3"
    },
    "colab": {
      "provenance": [],
      "include_colab_link": true
    }
  },
  "nbformat": 4,
  "nbformat_minor": 0
}