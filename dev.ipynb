{
  "cells": [
    {
      "cell_type": "markdown",
      "metadata": {
        "id": "view-in-github",
        "colab_type": "text"
      },
      "source": [
        "<a href=\"https://colab.research.google.com/github/zwimpee/1L-Sparse-Autoencoder/blob/main/dev.ipynb\" target=\"_parent\"><img src=\"https://colab.research.google.com/assets/colab-badge.svg\" alt=\"Open In Colab\"/></a>"
      ]
    },
    {
      "cell_type": "markdown",
      "source": [
        "# Sparse Autoencoder Feature Extract and Interpretability (safeai)\n",
        "\n",
        "## Setup"
      ],
      "metadata": {
        "id": "SjBHiDo0TUMo"
      }
    },
    {
      "cell_type": "code",
      "execution_count": null,
      "metadata": {
        "id": "qzU1eYv0SvAX"
      },
      "outputs": [],
      "source": [
        "!python3 -V"
      ]
    },
    {
      "cell_type": "code",
      "source": [
        "!pip install transformer_lens\n",
        "!pip install gradio"
      ],
      "metadata": {
        "id": "lbFhN8dWTK_g"
      },
      "execution_count": null,
      "outputs": []
    },
    {
      "cell_type": "markdown",
      "source": [
        "## Imports"
      ],
      "metadata": {
        "id": "l1T8XDeQT2QC"
      }
    },
    {
      "cell_type": "code",
      "source": [
        "import transformer_lens\n",
        "from transformer_lens import HookedTransformer, utils\n",
        "import torch\n",
        "import numpy as np\n",
        "import gradio as gr\n",
        "import pprint\n",
        "import json\n",
        "import torch.nn as nn\n",
        "import torch.nn.functional as F\n",
        "from datasets import load_dataset\n",
        "from huggingface_hub import HfApi\n",
        "from IPython.display import HTML\n",
        "from functools import partial\n",
        "import tqdm.notebook as tqdm\n",
        "import plotly.express as px\n",
        "import pandas as pd"
      ],
      "metadata": {
        "id": "dUf6nhkuTggs"
      },
      "execution_count": null,
      "outputs": []
    },
    {
      "cell_type": "markdown",
      "source": [
        "## Implementation"
      ],
      "metadata": {
        "id": "y8ZmfyVBUWCa"
      }
    },
    {
      "cell_type": "markdown",
      "source": [
        "\n",
        "### Autoencoder"
      ],
      "metadata": {
        "id": "R3msnJbzT4Rd"
      }
    },
    {
      "cell_type": "code",
      "source": [
        "config = {\n",
        "    \"seed\": 49,\n",
        "    \"batch_size\": 4096,\n",
        "    \"buffer_mult\": 384,\n",
        "    \"lr\": 1e-4,\n",
        "    \"num_tokens\": int(2e9),\n",
        "    \"l1_coeff\": 3e-4,\n",
        "    \"beta1\": 0.9,\n",
        "    \"beta2\": 0.99,\n",
        "    \"dict_mult\": 8,\n",
        "    \"seq_len\": 128,\n",
        "    \"d_mlp\": 2048,\n",
        "    \"enc_dtype\":\"fp32\",\n",
        "    \"remove_rare_dir\": False,\n",
        "}\n",
        "config[\"model_batch_size\"] = 64\n",
        "config[\"buffer_size\"] = config[\"batch_size\"] * config[\"buffer_mult\"]\n",
        "config[\"buffer_batches\"] = config[\"buffer_size\"] // config[\"seq_len\"]\n",
        "\n",
        "DTYPES = {\"fp32\": torch.float32, \"fp16\": torch.float16, \"bf16\": torch.bfloat16}\n",
        "\n",
        "class AutoEncoder(nn.Module):\n",
        "    def __init__(self, config):\n",
        "        super().__init__()\n",
        "        d_hidden = config[\"d_mlp\"] * config[\"dict_mult\"]\n",
        "        d_mlp = config[\"d_mlp\"]\n",
        "        l1_coeff = config[\"l1_coeff\"]\n",
        "        dtype = DTYPES[config[\"enc_dtype\"]]\n",
        "        torch.manual_seed(config[\"seed\"])\n",
        "        self.W_enc = nn.Parameter(torch.nn.init.kaiming_uniform_(torch.empty(d_mlp, d_hidden, dtype=dtype)))\n",
        "        self.W_dec = nn.Parameter(torch.nn.init.kaiming_uniform_(torch.empty(d_hidden, d_mlp, dtype=dtype)))\n",
        "        self.b_enc = nn.Parameter(torch.zeros(d_hidden, dtype=dtype))\n",
        "        self.b_dec = nn.Parameter(torch.zeros(d_mlp, dtype=dtype))\n",
        "\n",
        "        self.W_dec.data[:] = self.W_dec / self.W_dec.norm(dim=-1, keepdim=True)\n",
        "\n",
        "        self.d_hidden = d_hidden\n",
        "        self.l1_coeff = l1_coeff\n",
        "\n",
        "        self.to(\"cuda\")\n",
        "\n",
        "    def forward(self, x):\n",
        "        x_cent = x - self.b_dec\n",
        "        acts = F.relu(x_cent @ self.W_enc + self.b_enc)\n",
        "        x_reconstruct = acts @ self.W_dec + self.b_dec\n",
        "        l2_loss = (x_reconstruct.float() - x.float()).pow(2).sum(-1).mean(0)\n",
        "        l1_loss = self.l1_coeff * (acts.float().abs().sum())\n",
        "        loss = l2_loss + l1_loss\n",
        "        return loss, x_reconstruct, acts, l2_loss, l1_loss\n",
        "\n",
        "    @torch.no_grad()\n",
        "    def remove_parallel_component_of_grads(self):\n",
        "        W_dec_normed = self.W_dec / self.W_dec.norm(dim=-1, keepdim=True)\n",
        "        W_dec_grad_proj = (self.W_dec.grad * W_dec_normed).sum(-1, keepdim=True) * W_dec_normed\n",
        "        self.W_dec.grad -= W_dec_grad_proj\n",
        "\n",
        "    # def get_version(self):\n",
        "    #     return 1+max([int(file.name.split(\".\")[0]) for file in list(SAVE_DIR.iterdir()) if \"pt\" in str(file)])\n",
        "\n",
        "    # def save(self):\n",
        "    #     version = self.get_version()\n",
        "    #     torch.save(self.state_dict(), SAVE_DIR/(str(version)+\".pt\"))\n",
        "    #     with open(SAVE_DIR/(str(version)+\"_cfg.json\"), \"w\") as f:\n",
        "    #         json.dump(cfg, f)\n",
        "    #     print(\"Saved as version\", version)\n",
        "\n",
        "    # def load(cls, version):\n",
        "    #     cfg = (json.load(open(SAVE_DIR/(str(version)+\"_cfg.json\"), \"r\")))\n",
        "    #     pprint.pprint(cfg)\n",
        "    #     self = cls(cfg=cfg)\n",
        "    #     self.load_state_dict(torch.load(SAVE_DIR/(str(version)+\".pt\")))\n",
        "    #     return self\n",
        "\n",
        "    @classmethod\n",
        "    def load_from_hf(cls, version):\n",
        "        \"\"\"\n",
        "        Loads the saved autoencoder from HuggingFace.\n",
        "\n",
        "        Version is expected to be an int, or \"run1\" or \"run2\"\n",
        "\n",
        "        version 25 is the final checkpoint of the first autoencoder run,\n",
        "        version 47 is the final checkpoint of the second autoencoder run.\n",
        "        \"\"\"\n",
        "        if version==\"run1\":\n",
        "            version = 25\n",
        "        elif version==\"run2\":\n",
        "            version = 47\n",
        "\n",
        "        cfg = utils.download_file_from_hf(\"NeelNanda/sparse_autoencoder\", f\"{version}_cfg.json\")\n",
        "        pprint.pprint(cfg)\n",
        "        self = cls(cfg=cfg)\n",
        "        self.load_state_dict(utils.download_file_from_hf(\"ZacharyWimpee/sparse_autoencoder\", f\"{version}.pt\", force_is_torch=True))\n",
        "        return self"
      ],
      "metadata": {
        "id": "S3ypesK0T67l"
      },
      "execution_count": null,
      "outputs": []
    },
    {
      "cell_type": "markdown",
      "source": [
        "## Utils"
      ],
      "metadata": {
        "id": "kju5GpaKVI80"
      }
    },
    {
      "cell_type": "markdown",
      "source": [
        "### Get Reconstruction Loss"
      ],
      "metadata": {
        "id": "3jR9xXgyVbih"
      }
    },
    {
      "cell_type": "code",
      "source": [
        "def replacement_hook(mlp_post, hook, encoder):\n",
        "    mlp_post_reconstr = encoder(mlp_post)[1]\n",
        "    return mlp_post_reconstr\n",
        "\n",
        "def mean_ablate_hook(mlp_post, hook):\n",
        "    mlp_post[:] = mlp_post.mean([0, 1])\n",
        "    return mlp_post\n",
        "\n",
        "def zero_ablate_hook(mlp_post, hook):\n",
        "    mlp_post[:] = 0.\n",
        "    return mlp_post\n",
        "\n",
        "@torch.no_grad()\n",
        "def get_recons_loss(num_batches=5, local_encoder=None):\n",
        "    if local_encoder is None:\n",
        "        local_encoder = encoder\n",
        "    loss_list = []\n",
        "    for i in range(num_batches):\n",
        "        tokens = all_tokens[torch.randperm(len(all_tokens))[:cfg[\"model_batch_size\"]]]\n",
        "        loss = model(tokens, return_type=\"loss\")\n",
        "        recons_loss = model.run_with_hooks(tokens, return_type=\"loss\", fwd_hooks=[(utils.get_act_name(\"post\", 0), partial(replacement_hook, encoder=local_encoder))])\n",
        "        # mean_abl_loss = model.run_with_hooks(tokens, return_type=\"loss\", fwd_hooks=[(utils.get_act_name(\"post\", 0), mean_ablate_hook)])\n",
        "        zero_abl_loss = model.run_with_hooks(tokens, return_type=\"loss\", fwd_hooks=[(utils.get_act_name(\"post\", 0), zero_ablate_hook)])\n",
        "        loss_list.append((loss, recons_loss, zero_abl_loss))\n",
        "    losses = torch.tensor(loss_list)\n",
        "    loss, recons_loss, zero_abl_loss = losses.mean(0).tolist()\n",
        "\n",
        "    print(f\"loss: {loss:.4f}, recons_loss: {recons_loss:.4f}, zero_abl_loss: {zero_abl_loss:.4f}\")\n",
        "    score = ((zero_abl_loss - recons_loss)/(zero_abl_loss - loss))\n",
        "    print(f\"Reconstruction Score: {score:.2%}\")\n",
        "    # print(f\"{((zero_abl_loss - mean_abl_loss)/(zero_abl_loss - loss)).item():.2%}\")\n",
        "    return score, loss, recons_loss, zero_abl_loss"
      ],
      "metadata": {
        "id": "E-XN_do8VabW"
      },
      "execution_count": null,
      "outputs": []
    },
    {
      "cell_type": "markdown",
      "source": [
        "### Get Frequencies"
      ],
      "metadata": {
        "id": "zxzbXJvLVhV0"
      }
    },
    {
      "cell_type": "code",
      "source": [
        "# Frequency\n",
        "@torch.no_grad()\n",
        "def get_freqs(num_batches=25, local_encoder=None):\n",
        "    if local_encoder is None:\n",
        "        local_encoder = encoder\n",
        "    act_freq_scores = torch.zeros(local_encoder.d_hidden, dtype=torch.float32).cuda()\n",
        "    total = 0\n",
        "    for i in tqdm.trange(num_batches):\n",
        "        tokens = all_tokens[torch.randperm(len(all_tokens))[:cfg[\"model_batch_size\"]]]\n",
        "\n",
        "        _, cache = model.run_with_cache(tokens, stop_at_layer=1, names_filter=utils.get_act_name(\"post\", 0))\n",
        "        mlp_acts = cache[utils.get_act_name(\"post\", 0)]\n",
        "        mlp_acts = mlp_acts.reshape(-1, d_mlp)\n",
        "\n",
        "        hidden = local_encoder(mlp_acts)[2]\n",
        "\n",
        "        act_freq_scores += (hidden > 0).sum(0)\n",
        "        total+=hidden.shape[0]\n",
        "    act_freq_scores /= total\n",
        "    num_dead = (act_freq_scores==0).float().mean()\n",
        "    print(\"Num dead\", num_dead)\n",
        "    return act_freq_scores"
      ],
      "metadata": {
        "id": "y_UReEIDVjzo"
      },
      "execution_count": null,
      "outputs": []
    },
    {
      "cell_type": "markdown",
      "source": [
        "## Visualise Feature Utils"
      ],
      "metadata": {
        "id": "IAr8Tr8sVn-w"
      }
    },
    {
      "cell_type": "code",
      "source": [
        "from html import escape\n",
        "import colorsys\n",
        "\n",
        "from IPython.display import display\n",
        "\n",
        "SPACE = \"·\"\n",
        "NEWLINE=\"↩\"\n",
        "TAB = \"→\"\n",
        "\n",
        "def create_html(strings, values, max_value=None, saturation=0.5, allow_different_length=False, return_string=False):\n",
        "    # escape strings to deal with tabs, newlines, etc.\n",
        "    escaped_strings = [escape(s, quote=True) for s in strings]\n",
        "    processed_strings = [\n",
        "        s.replace(\"\\n\", f\"{NEWLINE}<br/>\").replace(\"\\t\", f\"{TAB}&emsp;\").replace(\" \", \"&nbsp;\")\n",
        "        for s in escaped_strings\n",
        "    ]\n",
        "\n",
        "    if isinstance(values, torch.Tensor) and len(values.shape)>1:\n",
        "        values = values.flatten().tolist()\n",
        "\n",
        "    if not allow_different_length:\n",
        "        assert len(processed_strings) == len(values)\n",
        "\n",
        "    # scale values\n",
        "    if max_value is None:\n",
        "        max_value = max(max(values), -min(values))+1e-3\n",
        "    scaled_values = [v / max_value * saturation for v in values]\n",
        "\n",
        "    # create html\n",
        "    html = \"\"\n",
        "    for i, s in enumerate(processed_strings):\n",
        "        if i<len(scaled_values):\n",
        "            v = scaled_values[i]\n",
        "        else:\n",
        "            v = 0\n",
        "        if v < 0:\n",
        "            hue = 0  # hue for red in HSV\n",
        "        else:\n",
        "            hue = 0.66  # hue for blue in HSV\n",
        "        rgb_color = colorsys.hsv_to_rgb(\n",
        "            hue, v, 1\n",
        "        )  # hsv color with hue 0.66 (blue), saturation as v, value 1\n",
        "        hex_color = \"#%02x%02x%02x\" % (\n",
        "            int(rgb_color[0] * 255),\n",
        "            int(rgb_color[1] * 255),\n",
        "            int(rgb_color[2] * 255),\n",
        "        )\n",
        "        html += f'<span style=\"background-color: {hex_color}; border: 1px solid lightgray; font-size: 16px; border-radius: 3px;\">{s}</span>'\n",
        "    if return_string:\n",
        "        return html\n",
        "    else:\n",
        "        display(HTML(html))\n",
        "\n",
        "def basic_feature_vis(text, feature_index, max_val=0):\n",
        "    feature_in = encoder.W_enc[:, feature_index]\n",
        "    feature_bias = encoder.b_enc[feature_index]\n",
        "    _, cache = model.run_with_cache(text, stop_at_layer=1, names_filter=utils.get_act_name(\"post\", 0))\n",
        "    mlp_acts = cache[utils.get_act_name(\"post\", 0)][0]\n",
        "    feature_acts = F.relu((mlp_acts - encoder.b_dec) @ feature_in + feature_bias)\n",
        "    if max_val==0:\n",
        "        max_val = max(1e-7, feature_acts.max().item())\n",
        "        # print(max_val)\n",
        "    # if min_val==0:\n",
        "    #     min_val = min(-1e-7, feature_acts.min().item())\n",
        "    return basic_token_vis_make_str(text, feature_acts, max_val)\n",
        "def basic_token_vis_make_str(strings, values, max_val=None):\n",
        "    if not isinstance(strings, list):\n",
        "        strings = model.to_str_tokens(strings)\n",
        "    values = utils.to_numpy(values)\n",
        "    if max_val is None:\n",
        "        max_val = values.max()\n",
        "    # if min_val is None:\n",
        "    #     min_val = values.min()\n",
        "    header_string = f\"<h4>Max Range <b>{values.max():.4f}</b> Min Range: <b>{values.min():.4f}</b></h4>\"\n",
        "    header_string += f\"<h4>Set Max Range <b>{max_val:.4f}</b></h4>\"\n",
        "    # values[values>0] = values[values>0]/ma|x_val\n",
        "    # values[values<0] = values[values<0]/abs(min_val)\n",
        "    body_string = create_html(strings, values, max_value=max_val, return_string=True)\n",
        "    return header_string + body_string\n",
        "# display(HTML(basic_token_vis_make_str(tokens[0, :10], mlp_acts[0, :10, 7], 0.1)))\n",
        "# # %%\n",
        "# The `with gr.Blocks() as demo:` syntax just creates a variable called demo containing all these components\n",
        "import gradio as gr\n",
        "try:\n",
        "    demos[0].close()\n",
        "except:\n",
        "    pass\n",
        "demos = [None]\n",
        "def make_feature_vis_gradio(feature_id, starting_text=None, batch=None, pos=None):\n",
        "    if starting_text is None:\n",
        "        starting_text = model.to_string(all_tokens[batch, 1:pos+1])\n",
        "    try:\n",
        "        demos[0].close()\n",
        "    except:\n",
        "        pass\n",
        "    with gr.Blocks() as demo:\n",
        "        gr.HTML(value=f\"Hacky Interactive Neuroscope for gelu-1l\")\n",
        "        # The input elements\n",
        "        with gr.Row():\n",
        "            with gr.Column():\n",
        "                text = gr.Textbox(label=\"Text\", value=starting_text)\n",
        "                # Precision=0 makes it an int, otherwise it's a float\n",
        "                # Value sets the initial default value\n",
        "                feature_index = gr.Number(\n",
        "                    label=\"Feature Index\", value=feature_id, precision=0\n",
        "                )\n",
        "                # # If empty, these two map to None\n",
        "                max_val = gr.Number(label=\"Max Value\", value=None)\n",
        "                # min_val = gr.Number(label=\"Min Value\", value=None)\n",
        "                inputs = [text, feature_index, max_val]\n",
        "        with gr.Row():\n",
        "            with gr.Column():\n",
        "                # The output element\n",
        "                out = gr.HTML(label=\"Neuron Acts\", value=basic_feature_vis(starting_text, feature_id))\n",
        "        for inp in inputs:\n",
        "            inp.change(basic_feature_vis, inputs, out)\n",
        "    demo.launch(share=True)\n",
        "    demos[0] = demo"
      ],
      "metadata": {
        "id": "k2Cb-XmrVqgl"
      },
      "execution_count": null,
      "outputs": []
    },
    {
      "cell_type": "markdown",
      "source": [
        "### Inspecting Top Logits"
      ],
      "metadata": {
        "id": "O2UuRmEXVtBY"
      }
    },
    {
      "cell_type": "code",
      "source": [
        "SPACE = \"·\"\n",
        "NEWLINE=\"↩\"\n",
        "TAB = \"→\"\n",
        "def process_token(s):\n",
        "    if isinstance(s, torch.Tensor):\n",
        "        s = s.item()\n",
        "    if isinstance(s, np.int64):\n",
        "        s = s.item()\n",
        "    if isinstance(s, int):\n",
        "        s = model.to_string(s)\n",
        "    s = s.replace(\" \", SPACE)\n",
        "    s = s.replace(\"\\n\", NEWLINE+\"\\n\")\n",
        "    s = s.replace(\"\\t\", TAB)\n",
        "    return s\n",
        "\n",
        "def process_tokens(l):\n",
        "    if isinstance(l, str):\n",
        "        l = model.to_str_tokens(l)\n",
        "    elif isinstance(l, torch.Tensor) and len(l.shape)>1:\n",
        "        l = l.squeeze(0)\n",
        "    return [process_token(s) for s in l]\n",
        "\n",
        "def process_tokens_index(l):\n",
        "    if isinstance(l, str):\n",
        "        l = model.to_str_tokens(l)\n",
        "    elif isinstance(l, torch.Tensor) and len(l.shape)>1:\n",
        "        l = l.squeeze(0)\n",
        "    return [f\"{process_token(s)}/{i}\" for i,s in enumerate(l)]\n",
        "\n",
        "def create_vocab_df(logit_vec, make_probs=False, full_vocab=None):\n",
        "    if full_vocab is None:\n",
        "        full_vocab = process_tokens(model.to_str_tokens(torch.arange(model.cfg.d_vocab)))\n",
        "    vocab_df = pd.DataFrame({\"token\": full_vocab, \"logit\": utils.to_numpy(logit_vec)})\n",
        "    if make_probs:\n",
        "        vocab_df[\"log_prob\"] = utils.to_numpy(logit_vec.log_softmax(dim=-1))\n",
        "        vocab_df[\"prob\"] = utils.to_numpy(logit_vec.softmax(dim=-1))\n",
        "    return vocab_df.sort_values(\"logit\", ascending=False)"
      ],
      "metadata": {
        "id": "-SBs3A3PVury"
      },
      "execution_count": null,
      "outputs": []
    },
    {
      "cell_type": "markdown",
      "source": [
        "### Make Token DataFrame"
      ],
      "metadata": {
        "id": "zaT9C-f4VxgG"
      }
    },
    {
      "cell_type": "code",
      "source": [
        "def list_flatten(nested_list):\n",
        "    return [x for y in nested_list for x in y]\n",
        "def make_token_df(tokens, len_prefix=5, len_suffix=1):\n",
        "    str_tokens = [process_tokens(model.to_str_tokens(t)) for t in tokens]\n",
        "    unique_token = [[f\"{s}/{i}\" for i, s in enumerate(str_tok)] for str_tok in str_tokens]\n",
        "\n",
        "    context = []\n",
        "    batch = []\n",
        "    pos = []\n",
        "    label = []\n",
        "    for b in range(tokens.shape[0]):\n",
        "        # context.append([])\n",
        "        # batch.append([])\n",
        "        # pos.append([])\n",
        "        # label.append([])\n",
        "        for p in range(tokens.shape[1]):\n",
        "            prefix = \"\".join(str_tokens[b][max(0, p-len_prefix):p])\n",
        "            if p==tokens.shape[1]-1:\n",
        "                suffix = \"\"\n",
        "            else:\n",
        "                suffix = \"\".join(str_tokens[b][p+1:min(tokens.shape[1]-1, p+1+len_suffix)])\n",
        "            current = str_tokens[b][p]\n",
        "            context.append(f\"{prefix}|{current}|{suffix}\")\n",
        "            batch.append(b)\n",
        "            pos.append(p)\n",
        "            label.append(f\"{b}/{p}\")\n",
        "    # print(len(batch), len(pos), len(context), len(label))\n",
        "    return pd.DataFrame(dict(\n",
        "        str_tokens=list_flatten(str_tokens),\n",
        "        unique_token=list_flatten(unique_token),\n",
        "        context=context,\n",
        "        batch=batch,\n",
        "        pos=pos,\n",
        "        label=label,\n",
        "    ))"
      ],
      "metadata": {
        "id": "SEk5D7xwVy2D"
      },
      "execution_count": null,
      "outputs": []
    },
    {
      "cell_type": "markdown",
      "source": [
        "## Loading the Model"
      ],
      "metadata": {
        "id": "zLGDRCxrV1VX"
      }
    },
    {
      "cell_type": "code",
      "source": [
        "model = HookedTransformer.from_pretrained(\"gelu-1l\").to(DTYPES[cfg[\"enc_dtype\"]])\n",
        "n_layers = model.cfg.n_layers\n",
        "d_model = model.cfg.d_model\n",
        "n_heads = model.cfg.n_heads\n",
        "d_head = model.cfg.d_head\n",
        "d_mlp = model.cfg.d_mlp\n",
        "d_vocab = model.cfg.d_vocab"
      ],
      "metadata": {
        "id": "i_XD5_2pV20V"
      },
      "execution_count": null,
      "outputs": []
    },
    {
      "cell_type": "markdown",
      "source": [
        "## Loading Data"
      ],
      "metadata": {
        "id": "mp1MzFK3V5oQ"
      }
    },
    {
      "cell_type": "code",
      "source": [
        "data = load_dataset(\"NeelNanda/c4-code-20k\", split=\"train\")\n",
        "tokenized_data = utils.tokenize_and_concatenate(data, model.tokenizer, max_length=128)\n",
        "tokenized_data = tokenized_data.shuffle(42)\n",
        "all_tokens = tokenized_data[\"tokens\"]"
      ],
      "metadata": {
        "id": "6GHy7meQV7Pi"
      },
      "execution_count": null,
      "outputs": []
    },
    {
      "cell_type": "markdown",
      "source": [
        "# Analysis"
      ],
      "metadata": {
        "id": "EzyPR6QrV-U4"
      }
    },
    {
      "cell_type": "markdown",
      "source": [
        "## Loading the Autoencoder\n",
        "There are two runs on separate random seeds, along with a bunch of intermediate checkpoints"
      ],
      "metadata": {
        "id": "wwg0ryxIWCE4"
      }
    },
    {
      "cell_type": "code",
      "source": [
        "auto_encoder_run = \"run1\" # @param [\"run1\", \"run2\"]\n",
        "encoder = AutoEncoder.load_from_hf(auto_encoder_run)"
      ],
      "metadata": {
        "id": "DEf0VTmgV_yk"
      },
      "execution_count": null,
      "outputs": []
    },
    {
      "cell_type": "markdown",
      "source": [
        "## Using the Autoencoder\n"
      ],
      "metadata": {
        "id": "4OM8HO6OWH7Z"
      }
    },
    {
      "cell_type": "code",
      "source": [
        "_ = get_recons_loss(num_batches=5, local_encoder=encoder)"
      ],
      "metadata": {
        "id": "2SXB4-mdWK60"
      },
      "execution_count": null,
      "outputs": []
    },
    {
      "cell_type": "markdown",
      "source": [],
      "metadata": {
        "id": "yvxiv_DKWLeB"
      }
    },
    {
      "cell_type": "markdown",
      "source": [
        "## Rare Features Are All The Same"
      ],
      "metadata": {
        "id": "x9Iok8SZB4fg"
      }
    },
    {
      "cell_type": "markdown",
      "source": [
        "For each feature we can get the frequency at which it's non-zero (per token, averaged across a bunch of batches), and plot a histogram"
      ],
      "metadata": {
        "id": "skvpaPClM7Nb"
      }
    },
    {
      "cell_type": "code",
      "source": [
        "freqs = get_freqs(num_batches = 50, local_encoder = encoder)"
      ],
      "metadata": {
        "id": "5SECGnWLNAlg"
      },
      "execution_count": null,
      "outputs": []
    },
    {
      "cell_type": "code",
      "source": [
        "# Add 1e-6.5 so that dead features show up as log_freq -6.5\n",
        "log_freq = (freqs + 10**-6.5).log10()\n",
        "px.histogram(utils.to_numpy(log_freq), title=\"Log Frequency of Features\", histnorm='percent')"
      ],
      "metadata": {
        "id": "_Zn7g7WgNTQD"
      },
      "execution_count": null,
      "outputs": []
    },
    {
      "cell_type": "markdown",
      "source": [
        "We see that it's clearly bimodal! Let's define rare features as those with freq < 1e-4, and look at the cosine sim of each feature with the average rare feature - we see that almost all rare features correspond to this feature!"
      ],
      "metadata": {
        "id": "c612eWjYNpdv"
      }
    },
    {
      "cell_type": "code",
      "source": [
        "is_rare = freqs < 1e-4\n",
        "rare_enc = encoder.W_enc[:, is_rare]\n",
        "rare_mean = rare_enc.mean(-1)\n",
        "px.histogram(utils.to_numpy(rare_mean @ encoder.W_enc / rare_mean.norm() / encoder.W_enc.norm(dim=0)), title=\"Cosine Sim with Ave Rare Feature\", color=utils.to_numpy(is_rare), labels={\"color\": \"is_rare\", \"count\": \"percent\", \"value\": \"cosine_sim\"}, marginal=\"box\", histnorm=\"percent\", barmode='overlay')"
      ],
      "metadata": {
        "id": "GbM9UZsJN0Uy"
      },
      "execution_count": null,
      "outputs": []
    },
    {
      "cell_type": "markdown",
      "source": [
        "## Interpreting A Feature"
      ],
      "metadata": {
        "id": "eZCqUIB9Bzx_"
      }
    },
    {
      "cell_type": "markdown",
      "source": [
        "Let's go and investigate a non rare feature, feature 7"
      ],
      "metadata": {
        "id": "3m_u8-zXRW2J"
      }
    },
    {
      "cell_type": "code",
      "source": [
        "feature_id = 7 # @param {type:\"number\"}\n",
        "batch_size = 128 # @param {type:\"number\"}\n",
        "\n",
        "print(f\"Feature freq: {freqs[7].item():.4f}\")"
      ],
      "metadata": {
        "id": "_HrsTqVIUKC0"
      },
      "execution_count": null,
      "outputs": []
    },
    {
      "cell_type": "markdown",
      "source": [
        "Let's run the model on some text and then use the autoencoder to process the MLP activations"
      ],
      "metadata": {
        "id": "AYoGLyl2VpA-"
      }
    },
    {
      "cell_type": "code",
      "source": [
        "tokens = all_tokens[:batch_size]\n",
        "_, cache = model.run_with_cache(tokens, stop_at_layer=1, names_filter=utils.get_act_name(\"post\", 0))\n",
        "mlp_acts = cache[utils.get_act_name(\"post\", 0)]\n",
        "mlp_acts_flattened = mlp_acts.reshape(-1, cfg[\"d_mlp\"])\n",
        "loss, x_reconstruct, hidden_acts, l2_loss, l1_loss = encoder(mlp_acts_flattened)\n",
        "# This is equivalent to:\n",
        "# hidden_acts = F.relu((mlp_acts_flattened - encoder.b_dec) @ encoder.W_enc + encoder.b_enc)\n",
        "print(\"hidden_acts.shape\", hidden_acts.shape)"
      ],
      "metadata": {
        "id": "TBKY9P_PULJs"
      },
      "execution_count": null,
      "outputs": []
    },
    {
      "cell_type": "markdown",
      "source": [
        "We can now sort and display the top tokens, and we see that this feature activates on text like \" and I\" (ditto for other connectives and pronouns)! It seems interpretable!\n",
        "\n",
        "**Aside:** Note on how to read the context column:\n",
        "\n",
        "A line like \"·himself·as·democratic·socialist·and|·he|·favors\" means that the preceding 5 tokens are \" himself as democratic socialist and\", the current token is \" he\" and the next token is \" favors\".  · are spaces, ↩ is a newline.\n",
        "\n",
        "This gets a bit confusing for this feature, since the pipe separators look a lot like a capital I\n"
      ],
      "metadata": {
        "id": "D0-vxYAIVtxv"
      }
    },
    {
      "cell_type": "code",
      "source": [
        "token_df = make_token_df(tokens)\n",
        "token_df[\"feature\"] = utils.to_numpy(hidden_acts[:, feature_id])\n",
        "token_df.sort_values(\"feature\", ascending=False).head(20).style.background_gradient(\"coolwarm\")"
      ],
      "metadata": {
        "id": "6LQet6vaU60H"
      },
      "execution_count": null,
      "outputs": []
    },
    {
      "cell_type": "markdown",
      "source": [
        "It's easy to misread evidence like the above, so it's useful to take some text and edit it and see how this changes the model's activations. Here's a hacky interactive tool to play around with some text."
      ],
      "metadata": {
        "id": "H_SsYbIhWm43"
      }
    },
    {
      "cell_type": "code",
      "source": [
        "model.cfg"
      ],
      "metadata": {
        "id": "xHWCNBe81qAV"
      },
      "execution_count": null,
      "outputs": []
    },
    {
      "cell_type": "code",
      "source": [
        "s = \"The 1899 Kentucky gubernatorial election was held on November 7, 1899. The Republican incumbent, William Bradley, was term-limited. The Democrats chose William Goebel. Republicans nominated William Taylor. Taylor won by a vote of 193,714 to 191,331. The vote was challenged on grounds of voter fraud, but the Board of Elections, though stocked with pro-Goebel members, certified the result. Democratic legislators began investigations, but before their committee could report, Goebel was shot by an unknown assassin (event pictured) on January 30, 1900. Democrats voided enough votes to swing the election to Goebel, Taylor was deposed, and Goebel was sworn into office on January 31. He died on February 3. The lieutenant governor of Kentucky, J. C. W. Beckham, became governor, and battled Taylor in court. Beckham won on appeal, and Taylor fled to Indiana, fearing arrest as an accomplice. The only persons convicted in connection with the killing were later pardoned; the assassin's identity remains a mystery\"\n",
        "t = model.to_tokens(s)\n",
        "print(t)"
      ],
      "metadata": {
        "id": "wx6MkfEk0osY"
      },
      "execution_count": null,
      "outputs": []
    },
    {
      "cell_type": "code",
      "source": [
        "\n",
        "starting_text = \"Hero and I will head to Samantha and Mark's, then he and she will. Then I or you\" # @param {type:\"string\"}\n",
        "make_feature_vis_gradio(feature_id, starting_text)"
      ],
      "metadata": {
        "id": "HbgjmwTnQman"
      },
      "execution_count": null,
      "outputs": []
    }
  ],
  "metadata": {
    "kernelspec": {
      "display_name": "Python 3",
      "language": "python",
      "name": "python3"
    },
    "language_info": {
      "name": "python",
      "version": "3.12.3"
    },
    "colab": {
      "provenance": [],
      "include_colab_link": true
    }
  },
  "nbformat": 4,
  "nbformat_minor": 0
}